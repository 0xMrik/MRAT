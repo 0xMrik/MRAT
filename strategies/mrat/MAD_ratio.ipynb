{
 "cells": [
  {
   "cell_type": "markdown",
   "metadata": {},
   "source": [
    "Test API"
   ]
  },
  {
   "cell_type": "code",
   "execution_count": null,
   "metadata": {},
   "outputs": [],
   "source": [
    "import pandas as pd\n",
    "from pycoingecko import CoinGeckoAPI\n",
    "\n",
    "# Initialiser le client CoinGeckoAPI\n",
    "cg = CoinGeckoAPI()\n",
    "\n",
    "# Paramètres pour la requête API\n",
    "parameters = {\n",
    "    'vs_currency': 'usd',\n",
    "    'order': 'market_cap_desc',\n",
    "    'per_page': 100,\n",
    "    'page': 1,\n",
    "    'sparkline': False,\n",
    "    'locale': 'en'\n",
    "}\n",
    "\n",
    "# Récupérer les données du marché\n",
    "coin_market_data = cg.get_coins_markets(**parameters)\n",
    "\n",
    "# Convertir les données en DataFrame pour une meilleure visualisation\n",
    "df = pd.DataFrame(coin_market_data)\n",
    "\n",
    "# Sélectionner uniquement la colonne 'name' pour afficher les noms des cryptomonnaies\n",
    "df_names = df[['name']]\n",
    "\n",
    "# Afficher les noms des cryptomonnaies\n",
    "print(df_names)"
   ]
  },
  {
   "cell_type": "code",
   "execution_count": 1,
   "metadata": {},
   "outputs": [],
   "source": [
    "from pathlib import Path\n",
    "from pycoingecko import CoinGeckoAPI\n",
    "import pandas as pd\n",
    "import numpy as np\n",
    "import ta\n",
    "import matplotlib.pyplot as plt\n",
    "from tqdm import tqdm"
   ]
  },
  {
   "cell_type": "markdown",
   "metadata": {},
   "source": [
    "Pour l'IA"
   ]
  },
  {
   "cell_type": "code",
   "execution_count": null,
   "metadata": {},
   "outputs": [],
   "source": [
    "def fetch_data(category_id=\"artificial-intelligence\", days=\"max\", interval=\"daily\", base_dir=\"../../database/API/Coingecko/AI\"):\n",
    "    cg = CoinGeckoAPI()\n",
    "    base_dir = Path(base_dir).resolve()\n",
    "    base_dir.mkdir(parents=True, exist_ok=True)\n",
    "\n",
    "    # Récupérer les cryptomonnaies de la catégorie spécifiée par l'ID\n",
    "    coins_in_category = cg.get_coins_markets(vs_currency='usd', category=category_id)\n",
    "\n",
    "    for coin in coins_in_category:\n",
    "        coin_id = coin['id']\n",
    "        print(f\"Téléchargement des données pour {coin_id}.\")\n",
    "        market_data = cg.get_coin_market_chart_by_id(id=coin_id, vs_currency='usd', days=days, interval=interval)\n",
    "        prices = market_data['prices']\n",
    "        df = pd.DataFrame(prices, columns=['timestamp', coin_id])\n",
    "        df['timestamp'] = pd.to_datetime(df['timestamp'], unit='ms')\n",
    "        df.set_index('timestamp', inplace=True)\n",
    "        cache_path = base_dir / f\"{coin_id}_{days}_{interval}.csv\"\n",
    "        df.to_csv(cache_path)\n",
    "\n",
    "fetch_data(category_id=\"artificial-intelligence\")"
   ]
  },
  {
   "cell_type": "markdown",
   "metadata": {},
   "source": [
    "Pour le Top100"
   ]
  },
  {
   "cell_type": "code",
   "execution_count": 2,
   "metadata": {},
   "outputs": [
    {
     "name": "stderr",
     "output_type": "stream",
     "text": [
      "Téléchargement des données du marché: 100%|██████████| 100/100 [22:22<00:00, 13.42s/it]\n"
     ]
    }
   ],
   "source": [
    "def fetch_top_100_data(vs_currency='usd', base_dir='../../database/API/Coingecko/Top100'):\n",
    "    cg = CoinGeckoAPI()\n",
    "    base_dir = Path(base_dir).resolve()\n",
    "    base_dir.mkdir(parents=True, exist_ok=True)\n",
    "    \n",
    "    parameters = {\n",
    "        'vs_currency': vs_currency,\n",
    "        'order': 'market_cap_desc',\n",
    "        'per_page': 100,\n",
    "        'page': 1,\n",
    "        'sparkline': False,\n",
    "        'price_change_percentage': '1h,24h,7d'\n",
    "    }\n",
    "\n",
    "    coin_market_data = cg.get_coins_markets(**parameters)\n",
    "\n",
    "    # Utilisation de tqdm ici pour la barre de progression\n",
    "    for coin in tqdm(coin_market_data, desc=\"Téléchargement des données du marché\"):\n",
    "        coin_id = coin['id']\n",
    "        try:\n",
    "            market_data = cg.get_coin_market_chart_by_id(id=coin_id, vs_currency=vs_currency, days='5', interval='daily')\n",
    "            prices = market_data['prices']\n",
    "            df = pd.DataFrame(prices, columns=['timestamp', coin_id])\n",
    "            df['timestamp'] = pd.to_datetime(df['timestamp'], unit='ms')\n",
    "            df.set_index('timestamp', inplace=True)\n",
    "            cache_path = base_dir / f\"{coin_id}_365_days_daily.csv\"\n",
    "            df.to_csv(cache_path)\n",
    "        except Exception as e:\n",
    "            print(f\"Erreur lors de la récupération des données pour {coin_id}: {e}\")\n",
    "\n",
    "fetch_top_100_data()"
   ]
  },
  {
   "cell_type": "code",
   "execution_count": 3,
   "metadata": {},
   "outputs": [],
   "source": [
    "class MADStrategy:\n",
    "    def __init__(self, category=\"Top100\"):\n",
    "        base_path = \"../../database/API/Coingecko\"\n",
    "        self.base_dir = Path(base_path, category).resolve()\n",
    "        self.dataframes = {}\n",
    "        self.wallet_history = []\n",
    "\n",
    "    def load_data(self, coin_ids, days=\"max\", interval=\"daily\"):\n",
    "        for coin_id in coin_ids:\n",
    "            cache_path = self.base_dir / f\"{coin_id}_{days}_{interval}.csv\"\n",
    "            if cache_path.exists():\n",
    "                df = pd.read_csv(cache_path, index_col='timestamp', parse_dates=True)\n",
    "                self.dataframes[coin_id] = df\n",
    "\n",
    "    def calculate_ema_and_mad(self, periods=[21, 200]):\n",
    "        mad_scores = {}\n",
    "        for coin, df in self.dataframes.items():\n",
    "            for period in periods:\n",
    "                ema_key = f\"EMA_{period}\"\n",
    "                df[ema_key] = ta.trend.ema_indicator(close=df[coin], window=period)\n",
    "            df['MAD'] = df[f'EMA_{periods[0]}'] / df[f'EMA_{periods[1]}']\n",
    "            self.dataframes[coin] = df\n",
    "            # Enregistrer la dernière valeur de MAD, si elle n'est pas nan\n",
    "            if not pd.isna(df['MAD'].iloc[-1]):\n",
    "                mad_scores[coin] = df['MAD'].iloc[-1]\n",
    "\n",
    "        # Trier les scores MAD et sélectionner le top 10, en excluant les valeurs nan\n",
    "        top_mad_coins = sorted(mad_scores.items(), key=lambda x: x[1], reverse=True)[:15]\n",
    "        return top_mad_coins\n"
   ]
  },
  {
   "cell_type": "markdown",
   "metadata": {},
   "source": [
    "Choisir \"Top100\" ou \"AI\" "
   ]
  },
  {
   "cell_type": "code",
   "execution_count": 4,
   "metadata": {},
   "outputs": [
    {
     "name": "stdout",
     "output_type": "stream",
     "text": [
      "Top 15 Cryptocurrencies by MAD Ratio in Top100:\n",
      "floki: MAD Ratio = 3.0405805367382883\n",
      "pepe: MAD Ratio = 2.9695074754632906\n",
      "fetch-ai: MAD Ratio = 2.611374321797042\n",
      "arweave: MAD Ratio = 2.485488990208029\n",
      "ribbon-finance: MAD Ratio = 2.341434158978568\n",
      "singularitynet: MAD Ratio = 2.327203633033273\n",
      "bonk: MAD Ratio = 2.318243971071554\n",
      "worldcoin-wld: MAD Ratio = 2.1614199124521005\n",
      "shiba-inu: MAD Ratio = 2.06272527584079\n",
      "bittensor: MAD Ratio = 2.00853511540358\n",
      "akash-network: MAD Ratio = 1.989827731279038\n",
      "theta-token: MAD Ratio = 1.978629901594772\n",
      "render-token: MAD Ratio = 1.965938143899637\n",
      "axelar: MAD Ratio = 1.9301702432290977\n",
      "blockstack: MAD Ratio = 1.8848426915393974\n"
     ]
    }
   ],
   "source": [
    "from pathlib import Path\n",
    "\n",
    "# Choisissez la catégorie ici: \"Top100\" ou \"AI\"\n",
    "selected_category = \"Top100\"\n",
    "\n",
    "strategy = MADStrategy(category=selected_category)\n",
    "\n",
    "data_dir = strategy.base_dir\n",
    "coin_ids = [f.stem.split('_')[0] for f in data_dir.glob(\"*.csv\")]\n",
    "strategy.load_data(coin_ids)\n",
    "\n",
    "top_mad_coins = strategy.calculate_ema_and_mad()\n",
    "\n",
    "# Affichage des résultats\n",
    "print(f\"Top 15 Cryptocurrencies by MAD Ratio in {selected_category}:\")\n",
    "for coin, mad_ratio in top_mad_coins:\n",
    "    print(f\"{coin}: MAD Ratio = {mad_ratio}\")"
   ]
  }
 ],
 "metadata": {
  "kernelspec": {
   "display_name": ".venv",
   "language": "python",
   "name": "python3"
  },
  "language_info": {
   "codemirror_mode": {
    "name": "ipython",
    "version": 3
   },
   "file_extension": ".py",
   "mimetype": "text/x-python",
   "name": "python",
   "nbconvert_exporter": "python",
   "pygments_lexer": "ipython3",
   "version": "3.12.2"
  }
 },
 "nbformat": 4,
 "nbformat_minor": 2
}
