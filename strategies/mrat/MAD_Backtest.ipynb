{
 "cells": [
  {
   "cell_type": "code",
   "execution_count": 2,
   "metadata": {},
   "outputs": [],
   "source": [
    "import pandas as pd\n",
    "from pycoingecko import CoinGeckoAPI\n",
    "\n",
    "# Initialiser le client CoinGeckoAPI\n",
    "cg = CoinGeckoAPI()\n",
    "\n",
    "# Paramètres pour la requête API\n",
    "parameters = {\n",
    "    'vs_currency': 'usd',\n",
    "    'order': 'market_cap_desc',\n",
    "    'per_page': 50,\n",
    "    'page': 1,\n",
    "    'sparkline': False,\n",
    "    'locale': 'en'\n",
    "}\n",
    "\n",
    "# Récupérer les données du marché\n",
    "coin_market_data = cg.get_coins_markets(**parameters)\n",
    "\n",
    "# Convertir les données en DataFrame\n",
    "df = pd.DataFrame(coin_market_data)\n",
    "\n",
    "# Sélectionner les IDs des cryptomonnaies\n",
    "top_50_coins = df[['id']].head(50)\n",
    "\n"
   ]
  },
  {
   "cell_type": "code",
   "execution_count": 3,
   "metadata": {},
   "outputs": [
    {
     "name": "stdout",
     "output_type": "stream",
     "text": [
      "Téléchargement des données pour bitcoin.\n",
      "Téléchargement des données pour ethereum.\n",
      "Téléchargement des données pour tether.\n",
      "Téléchargement des données pour binancecoin.\n"
     ]
    }
   ],
   "source": [
    "import pandas as pd\n",
    "from pycoingecko import CoinGeckoAPI\n",
    "import os\n",
    "\n",
    "# Initialiser le client CoinGeckoAPI\n",
    "cg = CoinGeckoAPI()\n",
    "\n",
    "# Fonction pour récupérer les données historiques d'une cryptomonnaie\n",
    "def fetch_historical_data(coin_id, start_date, end_date):\n",
    "    start_timestamp = int(pd.Timestamp(start_date).timestamp())\n",
    "    end_timestamp = int(pd.Timestamp(end_date).timestamp())\n",
    "    historical_data = cg.get_coin_market_chart_range_by_id(id=coin_id, vs_currency='usd',\n",
    "                                                           from_timestamp=start_timestamp, to_timestamp=end_timestamp)\n",
    "    prices = historical_data['prices']\n",
    "    df_historical = pd.DataFrame(prices, columns=['timestamp', 'price'])\n",
    "    df_historical['timestamp'] = pd.to_datetime(df_historical['timestamp'], unit='ms')\n",
    "    df_historical.set_index('timestamp', inplace=True)\n",
    "    return df_historical\n",
    "\n",
    "# Récupérer les données du marché pour le Top 50 des cryptomonnaies\n",
    "market_data = cg.get_coins_markets(vs_currency='usd', order='market_cap_desc', per_page=50, page=1)\n",
    "df_market = pd.DataFrame(market_data)\n",
    "top_50_coins = df_market.head(50)\n",
    "\n",
    "# Boucle pour récupérer les données historiques pour chaque cryptomonnaie\n",
    "historical_dataframes = {}\n",
    "for index, row in top_50_coins.iterrows():\n",
    "    coin_id = row['id']\n",
    "    print(f\"Téléchargement des données pour {coin_id}.\")\n",
    "    df_historical = fetch_historical_data(coin_id, '2023-01-01', '2024-03-08')\n",
    "    historical_dataframes[coin_id] = df_historical\n",
    "\n",
    "# Créer un dossier pour stocker les fichiers CSV\n",
    "data_dir = 'historical_data'\n",
    "os.makedirs(data_dir, exist_ok=True)\n",
    "\n",
    "# Enregistrer chaque DataFrame dans un fichier CSV\n",
    "for coin_id, df_historical in historical_dataframes.items():\n",
    "    file_path = os.path.join(data_dir, f\"{coin_id}_historical_data.csv\")\n",
    "    df_historical.to_csv(file_path)\n",
    "\n",
    "print(\"Les données historiques ont été téléchargées et enregistrées avec succès.\")"
   ]
  }
 ],
 "metadata": {
  "kernelspec": {
   "display_name": ".venv",
   "language": "python",
   "name": "python3"
  },
  "language_info": {
   "codemirror_mode": {
    "name": "ipython",
    "version": 3
   },
   "file_extension": ".py",
   "mimetype": "text/x-python",
   "name": "python",
   "nbconvert_exporter": "python",
   "pygments_lexer": "ipython3",
   "version": "3.12.2"
  }
 },
 "nbformat": 4,
 "nbformat_minor": 2
}
