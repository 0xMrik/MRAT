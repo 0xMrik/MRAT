{
 "cells": [
  {
   "cell_type": "code",
   "execution_count": 1,
   "metadata": {},
   "outputs": [],
   "source": [
    "import sys\n",
    "sys.path.append('./')\n",
    "from utilities.data_manager import ExchangeDataManager\n",
    "import pandas as pd"
   ]
  },
  {
   "cell_type": "markdown",
   "metadata": {},
   "source": [
    "# Download Historical data into CSV in Database"
   ]
  },
  {
   "cell_type": "code",
   "execution_count": 2,
   "metadata": {},
   "outputs": [
    {
     "name": "stdout",
     "output_type": "stream",
     "text": [
      "\tRécupération pour la paire BTC/USDT:USDT en timeframe 1h sur l'exchange bitget...\n"
     ]
    },
    {
     "data": {
      "application/vnd.jupyter.widget-view+json": {
       "model_id": "a8465682f7fc429ba33d828adcd37da2",
       "version_major": 2,
       "version_minor": 0
      },
      "text/plain": [
       "  0%|          | 0/315 [00:00<?, ?it/s]"
      ]
     },
     "metadata": {},
     "output_type": "display_data"
    },
    {
     "name": "stdout",
     "output_type": "stream",
     "text": [
      "\u001b[H\u001b[J\tRécupération pour la paire ETH/USDT:USDT en timeframe 1h sur l'exchange bitget...\n"
     ]
    },
    {
     "data": {
      "application/vnd.jupyter.widget-view+json": {
       "model_id": "6c1b63ba5f4b4a4194f4980ee32ccb0e",
       "version_major": 2,
       "version_minor": 0
      },
      "text/plain": [
       "  0%|          | 0/315 [00:00<?, ?it/s]"
      ]
     },
     "metadata": {},
     "output_type": "display_data"
    },
    {
     "name": "stdout",
     "output_type": "stream",
     "text": [
      "\u001b[H\u001b[J\tRécupération pour la paire ADA/USDT:USDT en timeframe 1h sur l'exchange bitget...\n"
     ]
    },
    {
     "data": {
      "application/vnd.jupyter.widget-view+json": {
       "model_id": "224588bc6f46465e9d148a0240beafe2",
       "version_major": 2,
       "version_minor": 0
      },
      "text/plain": [
       "  0%|          | 0/315 [00:00<?, ?it/s]"
      ]
     },
     "metadata": {},
     "output_type": "display_data"
    },
    {
     "name": "stdout",
     "output_type": "stream",
     "text": [
      "\u001b[H\u001b[J\tRécupération pour la paire AVAX/USDT:USDT en timeframe 1h sur l'exchange bitget...\n"
     ]
    },
    {
     "data": {
      "application/vnd.jupyter.widget-view+json": {
       "model_id": "59c15404fb9a400c81704f2ddde81352",
       "version_major": 2,
       "version_minor": 0
      },
      "text/plain": [
       "  0%|          | 0/315 [00:00<?, ?it/s]"
      ]
     },
     "metadata": {},
     "output_type": "display_data"
    },
    {
     "name": "stdout",
     "output_type": "stream",
     "text": [
      "\u001b[H\u001b[J\tRécupération pour la paire EGLD/USDT:USDT en timeframe 1h sur l'exchange bitget...\n"
     ]
    },
    {
     "data": {
      "application/vnd.jupyter.widget-view+json": {
       "model_id": "dc2aeae69d5a49649599b64a605e2925",
       "version_major": 2,
       "version_minor": 0
      },
      "text/plain": [
       "  0%|          | 0/315 [00:00<?, ?it/s]"
      ]
     },
     "metadata": {},
     "output_type": "display_data"
    },
    {
     "name": "stdout",
     "output_type": "stream",
     "text": [
      "\u001b[H\u001b[J\tRécupération pour la paire KSM/USDT:USDT en timeframe 1h sur l'exchange bitget...\n"
     ]
    },
    {
     "data": {
      "application/vnd.jupyter.widget-view+json": {
       "model_id": "05f2d6ce6b2c4fbdb61304e16ba03a30",
       "version_major": 2,
       "version_minor": 0
      },
      "text/plain": [
       "  0%|          | 0/315 [00:00<?, ?it/s]"
      ]
     },
     "metadata": {},
     "output_type": "display_data"
    },
    {
     "name": "stdout",
     "output_type": "stream",
     "text": [
      "\u001b[H\u001b[J\tRécupération pour la paire OCEAN/USDT:USDT en timeframe 1h sur l'exchange bitget...\n"
     ]
    },
    {
     "data": {
      "application/vnd.jupyter.widget-view+json": {
       "model_id": "1684370532f24aee87a22a92d1005268",
       "version_major": 2,
       "version_minor": 0
      },
      "text/plain": [
       "  0%|          | 0/315 [00:00<?, ?it/s]"
      ]
     },
     "metadata": {},
     "output_type": "display_data"
    },
    {
     "name": "stdout",
     "output_type": "stream",
     "text": [
      "\u001b[H\u001b[J\tRécupération pour la paire REN/USDT:USDT en timeframe 1h sur l'exchange bitget...\n"
     ]
    },
    {
     "data": {
      "application/vnd.jupyter.widget-view+json": {
       "model_id": "79294b97fa1f48ff8912a31079aa7585",
       "version_major": 2,
       "version_minor": 0
      },
      "text/plain": [
       "  0%|          | 0/315 [00:00<?, ?it/s]"
      ]
     },
     "metadata": {},
     "output_type": "display_data"
    },
    {
     "name": "stdout",
     "output_type": "stream",
     "text": [
      "Error during download REN/USDT:USDT 1h 1483225200000 bitget does not have market symbol REN/USDT:USDT\n",
      "Error during download REN/USDT:USDT 1h 1483945200000 bitget does not have market symbol REN/USDT:USDT\n",
      "Error during download REN/USDT:USDT 1h 1484665200000 bitget does not have market symbol REN/USDT:USDT\n",
      "Error during download REN/USDT:USDT 1h 1485385200000 bitget does not have market symbol REN/USDT:USDT\n",
      "Error during download REN/USDT:USDT 1h 1486105200000 bitget does not have market symbol REN/USDT:USDT\n",
      "Error during download REN/USDT:USDT 1h 1486825200000 bitget does not have market symbol REN/USDT:USDT\n",
      "Error during download REN/USDT:USDT 1h 1487545200000 bitget does not have market symbol REN/USDT:USDT\n",
      "Error during download REN/USDT:USDT 1h 1488265200000 bitget does not have market symbol REN/USDT:USDT\n",
      "Error during download REN/USDT:USDT 1h 1488985200000 bitget does not have market symbol REN/USDT:USDT\n",
      "Error during download REN/USDT:USDT 1h 1489705200000 bitget does not have market symbol REN/USDT:USDT\n",
      "Error during download REN/USDT:USDT 1h 1490425200000 bitget does not have market symbol REN/USDT:USDT\n",
      "Error during download REN/USDT:USDT 1h 1491145200000 bitget does not have market symbol REN/USDT:USDT\n",
      "Error during download REN/USDT:USDT 1h 1491865200000 bitget does not have market symbol REN/USDT:USDT\n",
      "Error during download REN/USDT:USDT 1h 1492585200000 bitget does not have market symbol REN/USDT:USDT\n",
      "Error during download REN/USDT:USDT 1h 1493305200000 bitget does not have market symbol REN/USDT:USDT\n",
      "Error during download REN/USDT:USDT 1h 1494025200000 bitget does not have market symbol REN/USDT:USDT\n",
      "Error during download REN/USDT:USDT 1h 1494745200000 bitget does not have market symbol REN/USDT:USDT\n",
      "Error during download REN/USDT:USDT 1h 1495465200000 bitget does not have market symbol REN/USDT:USDT\n",
      "Error during download REN/USDT:USDT 1h 1496185200000 bitget does not have market symbol REN/USDT:USDT\n",
      "Error during download REN/USDT:USDT 1h 1496905200000 bitget does not have market symbol REN/USDT:USDT\n",
      "Error during download REN/USDT:USDT 1h 1497625200000 bitget does not have market symbol REN/USDT:USDT\n",
      "Error during download REN/USDT:USDT 1h 1498345200000 bitget does not have market symbol REN/USDT:USDT\n",
      "Error during download REN/USDT:USDT 1h 1499065200000 bitget does not have market symbol REN/USDT:USDT\n",
      "Error during download REN/USDT:USDT 1h 1499785200000 bitget does not have market symbol REN/USDT:USDT\n",
      "Error during download REN/USDT:USDT 1h 1500505200000 bitget does not have market symbol REN/USDT:USDT\n",
      "Error during download REN/USDT:USDT 1h 1501225200000 bitget does not have market symbol REN/USDT:USDT\n",
      "Error during download REN/USDT:USDT 1h 1501945200000 bitget does not have market symbol REN/USDT:USDT\n",
      "Error during download REN/USDT:USDT 1h 1502665200000 bitget does not have market symbol REN/USDT:USDT\n",
      "Error during download REN/USDT:USDT 1h 1503385200000 bitget does not have market symbol REN/USDT:USDT\n",
      "Error during download REN/USDT:USDT 1h 1504105200000 bitget does not have market symbol REN/USDT:USDT\n",
      "Error during download REN/USDT:USDT 1h 1504825200000 bitget does not have market symbol REN/USDT:USDT\n",
      "Error during download REN/USDT:USDT 1h 1505545200000 bitget does not have market symbol REN/USDT:USDT\n",
      "Error during download REN/USDT:USDT 1h 1506265200000 bitget does not have market symbol REN/USDT:USDT\n",
      "Error during download REN/USDT:USDT 1h 1506985200000 bitget does not have market symbol REN/USDT:USDT\n",
      "Error during download REN/USDT:USDT 1h 1507705200000 bitget does not have market symbol REN/USDT:USDT\n",
      "Error during download REN/USDT:USDT 1h 1508425200000 bitget does not have market symbol REN/USDT:USDT\n",
      "Error during download REN/USDT:USDT 1h 1509145200000 bitget does not have market symbol REN/USDT:USDT\n",
      "Error during download REN/USDT:USDT 1h 1509865200000 bitget does not have market symbol REN/USDT:USDT\n",
      "Error during download REN/USDT:USDT 1h 1510585200000 bitget does not have market symbol REN/USDT:USDT\n",
      "Error during download REN/USDT:USDT 1h 1511305200000 bitget does not have market symbol REN/USDT:USDT\n",
      "Error during download REN/USDT:USDT 1h 1512025200000 bitget does not have market symbol REN/USDT:USDT\n",
      "Error during download REN/USDT:USDT 1h 1512745200000 bitget does not have market symbol REN/USDT:USDT\n",
      "Error during download REN/USDT:USDT 1h 1513465200000 bitget does not have market symbol REN/USDT:USDT\n",
      "Error during download REN/USDT:USDT 1h 1514185200000 bitget does not have market symbol REN/USDT:USDT\n",
      "Error during download REN/USDT:USDT 1h 1514905200000 bitget does not have market symbol REN/USDT:USDT\n",
      "Error during download REN/USDT:USDT 1h 1515625200000 bitget does not have market symbol REN/USDT:USDT\n",
      "Error during download REN/USDT:USDT 1h 1516345200000 bitget does not have market symbol REN/USDT:USDT\n",
      "Error during download REN/USDT:USDT 1h 1517065200000 bitget does not have market symbol REN/USDT:USDT\n",
      "Error during download REN/USDT:USDT 1h 1517785200000 bitget does not have market symbol REN/USDT:USDT\n",
      "Error during download REN/USDT:USDT 1h 1518505200000 bitget does not have market symbol REN/USDT:USDT\n",
      "Error during download REN/USDT:USDT 1h 1519225200000 bitget does not have market symbol REN/USDT:USDT\n",
      "Error during download REN/USDT:USDT 1h 1519945200000 bitget does not have market symbol REN/USDT:USDT\n",
      "Error during download REN/USDT:USDT 1h 1520665200000 bitget does not have market symbol REN/USDT:USDT\n",
      "Error during download REN/USDT:USDT 1h 1521385200000 bitget does not have market symbol REN/USDT:USDT\n",
      "Error during download REN/USDT:USDT 1h 1522105200000 bitget does not have market symbol REN/USDT:USDT\n",
      "Error during download REN/USDT:USDT 1h 1522825200000 bitget does not have market symbol REN/USDT:USDT\n",
      "Error during download REN/USDT:USDT 1h 1523545200000 bitget does not have market symbol REN/USDT:USDT\n",
      "Error during download REN/USDT:USDT 1h 1524265200000 bitget does not have market symbol REN/USDT:USDT\n",
      "Error during download REN/USDT:USDT 1h 1524985200000 bitget does not have market symbol REN/USDT:USDT\n",
      "Error during download REN/USDT:USDT 1h 1525705200000 bitget does not have market symbol REN/USDT:USDT\n",
      "Error during download REN/USDT:USDT 1h 1526425200000 bitget does not have market symbol REN/USDT:USDT\n",
      "Error during download REN/USDT:USDT 1h 1527145200000 bitget does not have market symbol REN/USDT:USDT\n",
      "Error during download REN/USDT:USDT 1h 1527865200000 bitget does not have market symbol REN/USDT:USDT\n",
      "Error during download REN/USDT:USDT 1h 1528585200000 bitget does not have market symbol REN/USDT:USDT\n",
      "Error during download REN/USDT:USDT 1h 1529305200000 bitget does not have market symbol REN/USDT:USDT\n",
      "Error during download REN/USDT:USDT 1h 1530025200000 bitget does not have market symbol REN/USDT:USDT\n",
      "Error during download REN/USDT:USDT 1h 1530745200000 bitget does not have market symbol REN/USDT:USDT\n",
      "Error during download REN/USDT:USDT 1h 1531465200000 bitget does not have market symbol REN/USDT:USDT\n",
      "Error during download REN/USDT:USDT 1h 1532185200000 bitget does not have market symbol REN/USDT:USDT\n",
      "Error during download REN/USDT:USDT 1h 1532905200000 bitget does not have market symbol REN/USDT:USDT\n",
      "Error during download REN/USDT:USDT 1h 1533625200000 bitget does not have market symbol REN/USDT:USDT\n",
      "Error during download REN/USDT:USDT 1h 1534345200000 bitget does not have market symbol REN/USDT:USDT\n",
      "Error during download REN/USDT:USDT 1h 1535065200000 bitget does not have market symbol REN/USDT:USDT\n",
      "Error during download REN/USDT:USDT 1h 1535785200000 bitget does not have market symbol REN/USDT:USDT\n",
      "Error during download REN/USDT:USDT 1h 1536505200000 bitget does not have market symbol REN/USDT:USDT\n",
      "Error during download REN/USDT:USDT 1h 1537225200000 bitget does not have market symbol REN/USDT:USDT\n",
      "Error during download REN/USDT:USDT 1h 1537945200000 bitget does not have market symbol REN/USDT:USDT\n",
      "Error during download REN/USDT:USDT 1h 1538665200000 bitget does not have market symbol REN/USDT:USDT\n",
      "Error during download REN/USDT:USDT 1h 1539385200000 bitget does not have market symbol REN/USDT:USDT\n",
      "Error during download REN/USDT:USDT 1h 1540105200000 bitget does not have market symbol REN/USDT:USDT\n",
      "Error during download REN/USDT:USDT 1h 1540825200000 bitget does not have market symbol REN/USDT:USDT\n",
      "Error during download REN/USDT:USDT 1h 1541545200000 bitget does not have market symbol REN/USDT:USDT\n",
      "Error during download REN/USDT:USDT 1h 1542265200000 bitget does not have market symbol REN/USDT:USDT\n",
      "Error during download REN/USDT:USDT 1h 1542985200000 bitget does not have market symbol REN/USDT:USDT\n",
      "Error during download REN/USDT:USDT 1h 1543705200000 bitget does not have market symbol REN/USDT:USDT\n",
      "Error during download REN/USDT:USDT 1h 1544425200000 bitget does not have market symbol REN/USDT:USDT\n",
      "Error during download REN/USDT:USDT 1h 1545145200000 bitget does not have market symbol REN/USDT:USDT\n",
      "Error during download REN/USDT:USDT 1h 1545865200000 bitget does not have market symbol REN/USDT:USDT\n",
      "Error during download REN/USDT:USDT 1h 1546585200000 bitget does not have market symbol REN/USDT:USDT\n",
      "Error during download REN/USDT:USDT 1h 1547305200000 bitget does not have market symbol REN/USDT:USDT\n",
      "Error during download REN/USDT:USDT 1h 1548025200000 bitget does not have market symbol REN/USDT:USDT\n",
      "Error during download REN/USDT:USDT 1h 1548745200000 bitget does not have market symbol REN/USDT:USDT\n",
      "Error during download REN/USDT:USDT 1h 1549465200000 bitget does not have market symbol REN/USDT:USDT\n",
      "Error during download REN/USDT:USDT 1h 1550185200000 bitget does not have market symbol REN/USDT:USDT\n",
      "Error during download REN/USDT:USDT 1h 1550905200000 bitget does not have market symbol REN/USDT:USDT\n",
      "Error during download REN/USDT:USDT 1h 1551625200000 bitget does not have market symbol REN/USDT:USDT\n",
      "Error during download REN/USDT:USDT 1h 1552345200000 bitget does not have market symbol REN/USDT:USDT\n",
      "Error during download REN/USDT:USDT 1h 1553065200000 bitget does not have market symbol REN/USDT:USDT\n",
      "Error during download REN/USDT:USDT 1h 1553785200000 bitget does not have market symbol REN/USDT:USDT\n",
      "Error during download REN/USDT:USDT 1h 1554505200000 bitget does not have market symbol REN/USDT:USDT\n",
      "Error during download REN/USDT:USDT 1h 1555225200000 bitget does not have market symbol REN/USDT:USDT\n",
      "Error during download REN/USDT:USDT 1h 1555945200000 bitget does not have market symbol REN/USDT:USDT\n",
      "Error during download REN/USDT:USDT 1h 1556665200000 bitget does not have market symbol REN/USDT:USDT\n",
      "Error during download REN/USDT:USDT 1h 1557385200000 bitget does not have market symbol REN/USDT:USDT\n",
      "Error during download REN/USDT:USDT 1h 1558105200000 bitget does not have market symbol REN/USDT:USDT\n",
      "Error during download REN/USDT:USDT 1h 1558825200000 bitget does not have market symbol REN/USDT:USDT\n",
      "Error during download REN/USDT:USDT 1h 1559545200000 bitget does not have market symbol REN/USDT:USDT\n",
      "Error during download REN/USDT:USDT 1h 1560265200000 bitget does not have market symbol REN/USDT:USDT\n",
      "Error during download REN/USDT:USDT 1h 1560985200000 bitget does not have market symbol REN/USDT:USDT\n",
      "Error during download REN/USDT:USDT 1h 1561705200000 bitget does not have market symbol REN/USDT:USDT\n",
      "Error during download REN/USDT:USDT 1h 1562425200000 bitget does not have market symbol REN/USDT:USDT\n",
      "Error during download REN/USDT:USDT 1h 1563145200000 bitget does not have market symbol REN/USDT:USDT\n",
      "Error during download REN/USDT:USDT 1h 1563865200000 bitget does not have market symbol REN/USDT:USDT\n",
      "Error during download REN/USDT:USDT 1h 1564585200000 bitget does not have market symbol REN/USDT:USDT\n",
      "Error during download REN/USDT:USDT 1h 1565305200000 bitget does not have market symbol REN/USDT:USDT\n",
      "Error during download REN/USDT:USDT 1h 1566025200000 bitget does not have market symbol REN/USDT:USDT\n",
      "Error during download REN/USDT:USDT 1h 1566745200000 bitget does not have market symbol REN/USDT:USDT\n",
      "Error during download REN/USDT:USDT 1h 1567465200000 bitget does not have market symbol REN/USDT:USDT\n",
      "Error during download REN/USDT:USDT 1h 1568185200000 bitget does not have market symbol REN/USDT:USDT\n",
      "Error during download REN/USDT:USDT 1h 1568905200000 bitget does not have market symbol REN/USDT:USDT\n",
      "Error during download REN/USDT:USDT 1h 1569625200000 bitget does not have market symbol REN/USDT:USDT\n",
      "Error during download REN/USDT:USDT 1h 1570345200000 bitget does not have market symbol REN/USDT:USDT\n",
      "Error during download REN/USDT:USDT 1h 1571065200000 bitget does not have market symbol REN/USDT:USDT\n",
      "Error during download REN/USDT:USDT 1h 1571785200000 bitget does not have market symbol REN/USDT:USDT\n",
      "Error during download REN/USDT:USDT 1h 1572505200000 bitget does not have market symbol REN/USDT:USDT\n",
      "Error during download REN/USDT:USDT 1h 1573225200000 bitget does not have market symbol REN/USDT:USDT\n",
      "Error during download REN/USDT:USDT 1h 1573945200000 bitget does not have market symbol REN/USDT:USDT\n",
      "Error during download REN/USDT:USDT 1h 1574665200000 bitget does not have market symbol REN/USDT:USDT\n",
      "Error during download REN/USDT:USDT 1h 1575385200000 bitget does not have market symbol REN/USDT:USDT\n",
      "Error during download REN/USDT:USDT 1h 1576105200000 bitget does not have market symbol REN/USDT:USDT\n",
      "Error during download REN/USDT:USDT 1h 1576825200000 bitget does not have market symbol REN/USDT:USDT\n",
      "Error during download REN/USDT:USDT 1h 1577545200000 bitget does not have market symbol REN/USDT:USDT\n",
      "Error during download REN/USDT:USDT 1h 1578265200000 bitget does not have market symbol REN/USDT:USDT\n",
      "Error during download REN/USDT:USDT 1h 1578985200000 bitget does not have market symbol REN/USDT:USDT\n",
      "Error during download REN/USDT:USDT 1h 1579705200000 bitget does not have market symbol REN/USDT:USDT\n",
      "Error during download REN/USDT:USDT 1h 1580425200000 bitget does not have market symbol REN/USDT:USDT\n",
      "Error during download REN/USDT:USDT 1h 1581145200000 bitget does not have market symbol REN/USDT:USDT\n",
      "Error during download REN/USDT:USDT 1h 1581865200000 bitget does not have market symbol REN/USDT:USDT\n",
      "Error during download REN/USDT:USDT 1h 1582585200000 bitget does not have market symbol REN/USDT:USDT\n",
      "Error during download REN/USDT:USDT 1h 1583305200000 bitget does not have market symbol REN/USDT:USDT\n",
      "Error during download REN/USDT:USDT 1h 1584025200000 bitget does not have market symbol REN/USDT:USDT\n",
      "Error during download REN/USDT:USDT 1h 1584745200000 bitget does not have market symbol REN/USDT:USDT\n",
      "Error during download REN/USDT:USDT 1h 1585465200000 bitget does not have market symbol REN/USDT:USDT\n",
      "Error during download REN/USDT:USDT 1h 1586185200000 bitget does not have market symbol REN/USDT:USDT\n",
      "Error during download REN/USDT:USDT 1h 1586905200000 bitget does not have market symbol REN/USDT:USDT\n",
      "Error during download REN/USDT:USDT 1h 1587625200000 bitget does not have market symbol REN/USDT:USDT\n",
      "Error during download REN/USDT:USDT 1h 1588345200000 bitget does not have market symbol REN/USDT:USDT\n",
      "Error during download REN/USDT:USDT 1h 1589065200000 bitget does not have market symbol REN/USDT:USDT\n",
      "Error during download REN/USDT:USDT 1h 1589785200000 bitget does not have market symbol REN/USDT:USDT\n",
      "Error during download REN/USDT:USDT 1h 1590505200000 bitget does not have market symbol REN/USDT:USDT\n",
      "Error during download REN/USDT:USDT 1h 1591225200000 bitget does not have market symbol REN/USDT:USDT\n",
      "Error during download REN/USDT:USDT 1h 1591945200000 bitget does not have market symbol REN/USDT:USDT\n",
      "Error during download REN/USDT:USDT 1h 1592665200000 bitget does not have market symbol REN/USDT:USDT\n",
      "Error during download REN/USDT:USDT 1h 1593385200000 bitget does not have market symbol REN/USDT:USDT\n",
      "Error during download REN/USDT:USDT 1h 1594105200000 bitget does not have market symbol REN/USDT:USDT\n",
      "Error during download REN/USDT:USDT 1h 1594825200000 bitget does not have market symbol REN/USDT:USDT\n",
      "Error during download REN/USDT:USDT 1h 1595545200000 bitget does not have market symbol REN/USDT:USDT\n",
      "Error during download REN/USDT:USDT 1h 1596265200000 bitget does not have market symbol REN/USDT:USDT\n",
      "Error during download REN/USDT:USDT 1h 1596985200000 bitget does not have market symbol REN/USDT:USDT\n",
      "Error during download REN/USDT:USDT 1h 1597705200000 bitget does not have market symbol REN/USDT:USDT\n",
      "Error during download REN/USDT:USDT 1h 1598425200000 bitget does not have market symbol REN/USDT:USDT\n",
      "Error during download REN/USDT:USDT 1h 1599145200000 bitget does not have market symbol REN/USDT:USDT\n",
      "Error during download REN/USDT:USDT 1h 1599865200000 bitget does not have market symbol REN/USDT:USDT\n",
      "Error during download REN/USDT:USDT 1h 1600585200000 bitget does not have market symbol REN/USDT:USDT\n",
      "Error during download REN/USDT:USDT 1h 1601305200000 bitget does not have market symbol REN/USDT:USDT\n",
      "Error during download REN/USDT:USDT 1h 1602025200000 bitget does not have market symbol REN/USDT:USDT\n",
      "Error during download REN/USDT:USDT 1h 1602745200000 bitget does not have market symbol REN/USDT:USDT\n",
      "Error during download REN/USDT:USDT 1h 1603465200000 bitget does not have market symbol REN/USDT:USDT\n",
      "Error during download REN/USDT:USDT 1h 1604185200000 bitget does not have market symbol REN/USDT:USDT\n",
      "Error during download REN/USDT:USDT 1h 1604905200000 bitget does not have market symbol REN/USDT:USDT\n",
      "Error during download REN/USDT:USDT 1h 1605625200000 bitget does not have market symbol REN/USDT:USDT\n",
      "Error during download REN/USDT:USDT 1h 1606345200000 bitget does not have market symbol REN/USDT:USDT\n",
      "Error during download REN/USDT:USDT 1h 1607065200000 bitget does not have market symbol REN/USDT:USDT\n",
      "Error during download REN/USDT:USDT 1h 1607785200000 bitget does not have market symbol REN/USDT:USDT\n",
      "Error during download REN/USDT:USDT 1h 1608505200000 bitget does not have market symbol REN/USDT:USDT\n",
      "Error during download REN/USDT:USDT 1h 1609225200000 bitget does not have market symbol REN/USDT:USDT\n",
      "Error during download REN/USDT:USDT 1h 1609945200000 bitget does not have market symbol REN/USDT:USDT\n",
      "Error during download REN/USDT:USDT 1h 1610665200000 bitget does not have market symbol REN/USDT:USDT\n",
      "Error during download REN/USDT:USDT 1h 1611385200000 bitget does not have market symbol REN/USDT:USDT\n",
      "Error during download REN/USDT:USDT 1h 1612105200000 bitget does not have market symbol REN/USDT:USDT\n",
      "Error during download REN/USDT:USDT 1h 1612825200000 bitget does not have market symbol REN/USDT:USDT\n",
      "Error during download REN/USDT:USDT 1h 1613545200000 bitget does not have market symbol REN/USDT:USDT\n",
      "Error during download REN/USDT:USDT 1h 1614265200000 bitget does not have market symbol REN/USDT:USDT\n",
      "Error during download REN/USDT:USDT 1h 1614985200000 bitget does not have market symbol REN/USDT:USDT\n",
      "Error during download REN/USDT:USDT 1h 1615705200000 bitget does not have market symbol REN/USDT:USDT\n",
      "Error during download REN/USDT:USDT 1h 1616425200000 bitget does not have market symbol REN/USDT:USDT\n",
      "Error during download REN/USDT:USDT 1h 1617145200000 bitget does not have market symbol REN/USDT:USDT\n",
      "Error during download REN/USDT:USDT 1h 1617865200000 bitget does not have market symbol REN/USDT:USDT\n",
      "Error during download REN/USDT:USDT 1h 1618585200000 bitget does not have market symbol REN/USDT:USDT\n",
      "Error during download REN/USDT:USDT 1h 1619305200000 bitget does not have market symbol REN/USDT:USDT\n",
      "Error during download REN/USDT:USDT 1h 1620025200000 bitget does not have market symbol REN/USDT:USDT\n",
      "Error during download REN/USDT:USDT 1h 1620745200000 bitget does not have market symbol REN/USDT:USDT\n",
      "Error during download REN/USDT:USDT 1h 1621465200000 bitget does not have market symbol REN/USDT:USDT\n",
      "Error during download REN/USDT:USDT 1h 1622185200000 bitget does not have market symbol REN/USDT:USDT\n",
      "Error during download REN/USDT:USDT 1h 1622905200000 bitget does not have market symbol REN/USDT:USDT\n",
      "Error during download REN/USDT:USDT 1h 1623625200000 bitget does not have market symbol REN/USDT:USDT\n",
      "Error during download REN/USDT:USDT 1h 1624345200000 bitget does not have market symbol REN/USDT:USDT\n",
      "Error during download REN/USDT:USDT 1h 1625065200000 bitget does not have market symbol REN/USDT:USDT\n",
      "Error during download REN/USDT:USDT 1h 1625785200000 bitget does not have market symbol REN/USDT:USDT\n",
      "Error during download REN/USDT:USDT 1h 1626505200000 bitget does not have market symbol REN/USDT:USDT\n",
      "Error during download REN/USDT:USDT 1h 1627225200000 bitget does not have market symbol REN/USDT:USDT\n",
      "Error during download REN/USDT:USDT 1h 1627945200000 bitget does not have market symbol REN/USDT:USDT\n",
      "Error during download REN/USDT:USDT 1h 1628665200000 bitget does not have market symbol REN/USDT:USDT\n",
      "Error during download REN/USDT:USDT 1h 1629385200000 bitget does not have market symbol REN/USDT:USDT\n",
      "Error during download REN/USDT:USDT 1h 1630105200000 bitget does not have market symbol REN/USDT:USDT\n",
      "Error during download REN/USDT:USDT 1h 1630825200000 bitget does not have market symbol REN/USDT:USDT\n",
      "Error during download REN/USDT:USDT 1h 1631545200000 bitget does not have market symbol REN/USDT:USDT\n",
      "Error during download REN/USDT:USDT 1h 1632265200000 bitget does not have market symbol REN/USDT:USDT\n",
      "Error during download REN/USDT:USDT 1h 1632985200000 bitget does not have market symbol REN/USDT:USDT\n",
      "Error during download REN/USDT:USDT 1h 1633705200000 bitget does not have market symbol REN/USDT:USDT\n",
      "Error during download REN/USDT:USDT 1h 1634425200000 bitget does not have market symbol REN/USDT:USDT\n",
      "Error during download REN/USDT:USDT 1h 1635145200000 bitget does not have market symbol REN/USDT:USDT\n",
      "Error during download REN/USDT:USDT 1h 1635865200000 bitget does not have market symbol REN/USDT:USDT\n",
      "Error during download REN/USDT:USDT 1h 1636585200000 bitget does not have market symbol REN/USDT:USDT\n",
      "Error during download REN/USDT:USDT 1h 1637305200000 bitget does not have market symbol REN/USDT:USDT\n",
      "Error during download REN/USDT:USDT 1h 1638025200000 bitget does not have market symbol REN/USDT:USDT\n",
      "Error during download REN/USDT:USDT 1h 1638745200000 bitget does not have market symbol REN/USDT:USDT\n",
      "Error during download REN/USDT:USDT 1h 1639465200000 bitget does not have market symbol REN/USDT:USDT\n",
      "Error during download REN/USDT:USDT 1h 1640185200000 bitget does not have market symbol REN/USDT:USDT\n",
      "Error during download REN/USDT:USDT 1h 1640905200000 bitget does not have market symbol REN/USDT:USDT\n",
      "Error during download REN/USDT:USDT 1h 1641625200000 bitget does not have market symbol REN/USDT:USDT\n",
      "Error during download REN/USDT:USDT 1h 1642345200000 bitget does not have market symbol REN/USDT:USDT\n",
      "Error during download REN/USDT:USDT 1h 1643065200000 bitget does not have market symbol REN/USDT:USDT\n",
      "Error during download REN/USDT:USDT 1h 1643785200000 bitget does not have market symbol REN/USDT:USDT\n",
      "Error during download REN/USDT:USDT 1h 1644505200000 bitget does not have market symbol REN/USDT:USDT\n",
      "Error during download REN/USDT:USDT 1h 1645225200000 bitget does not have market symbol REN/USDT:USDT\n",
      "Error during download REN/USDT:USDT 1h 1645945200000 bitget does not have market symbol REN/USDT:USDT\n",
      "Error during download REN/USDT:USDT 1h 1646665200000 bitget does not have market symbol REN/USDT:USDT\n",
      "Error during download REN/USDT:USDT 1h 1647385200000 bitget does not have market symbol REN/USDT:USDT\n",
      "Error during download REN/USDT:USDT 1h 1648105200000 bitget does not have market symbol REN/USDT:USDT\n",
      "Error during download REN/USDT:USDT 1h 1648825200000 bitget does not have market symbol REN/USDT:USDT\n",
      "Error during download REN/USDT:USDT 1h 1649545200000 bitget does not have market symbol REN/USDT:USDT\n",
      "Error during download REN/USDT:USDT 1h 1650265200000 bitget does not have market symbol REN/USDT:USDT\n",
      "Error during download REN/USDT:USDT 1h 1650985200000 bitget does not have market symbol REN/USDT:USDT\n",
      "Error during download REN/USDT:USDT 1h 1651705200000 bitget does not have market symbol REN/USDT:USDT\n",
      "Error during download REN/USDT:USDT 1h 1652425200000 bitget does not have market symbol REN/USDT:USDT\n",
      "Error during download REN/USDT:USDT 1h 1653145200000 bitget does not have market symbol REN/USDT:USDT\n",
      "Error during download REN/USDT:USDT 1h 1653865200000 bitget does not have market symbol REN/USDT:USDT\n",
      "Error during download REN/USDT:USDT 1h 1654585200000 bitget does not have market symbol REN/USDT:USDT\n",
      "Error during download REN/USDT:USDT 1h 1655305200000 bitget does not have market symbol REN/USDT:USDT\n",
      "Error during download REN/USDT:USDT 1h 1656025200000 bitget does not have market symbol REN/USDT:USDT\n",
      "Error during download REN/USDT:USDT 1h 1656745200000 bitget does not have market symbol REN/USDT:USDT\n",
      "Error during download REN/USDT:USDT 1h 1657465200000 bitget does not have market symbol REN/USDT:USDT\n",
      "Error during download REN/USDT:USDT 1h 1658185200000 bitget does not have market symbol REN/USDT:USDT\n",
      "Error during download REN/USDT:USDT 1h 1658905200000 bitget does not have market symbol REN/USDT:USDT\n",
      "Error during download REN/USDT:USDT 1h 1659625200000 bitget does not have market symbol REN/USDT:USDT\n",
      "Error during download REN/USDT:USDT 1h 1660345200000 bitget does not have market symbol REN/USDT:USDT\n",
      "Error during download REN/USDT:USDT 1h 1661065200000 bitget does not have market symbol REN/USDT:USDT\n",
      "Error during download REN/USDT:USDT 1h 1661785200000 bitget does not have market symbol REN/USDT:USDT\n",
      "Error during download REN/USDT:USDT 1h 1662505200000 bitget does not have market symbol REN/USDT:USDT\n",
      "Error during download REN/USDT:USDT 1h 1663225200000 bitget does not have market symbol REN/USDT:USDT\n",
      "Error during download REN/USDT:USDT 1h 1663945200000 bitget does not have market symbol REN/USDT:USDT\n",
      "Error during download REN/USDT:USDT 1h 1664665200000 bitget does not have market symbol REN/USDT:USDT\n",
      "Error during download REN/USDT:USDT 1h 1665385200000 bitget does not have market symbol REN/USDT:USDT\n",
      "Error during download REN/USDT:USDT 1h 1666105200000 bitget does not have market symbol REN/USDT:USDT\n",
      "Error during download REN/USDT:USDT 1h 1666825200000 bitget does not have market symbol REN/USDT:USDT\n",
      "Error during download REN/USDT:USDT 1h 1667545200000 bitget does not have market symbol REN/USDT:USDT\n",
      "Error during download REN/USDT:USDT 1h 1668265200000 bitget does not have market symbol REN/USDT:USDT\n",
      "Error during download REN/USDT:USDT 1h 1668985200000 bitget does not have market symbol REN/USDT:USDT\n",
      "Error during download REN/USDT:USDT 1h 1669705200000 bitget does not have market symbol REN/USDT:USDT\n",
      "Error during download REN/USDT:USDT 1h 1670425200000 bitget does not have market symbol REN/USDT:USDT\n",
      "Error during download REN/USDT:USDT 1h 1671145200000 bitget does not have market symbol REN/USDT:USDT\n",
      "Error during download REN/USDT:USDT 1h 1671865200000 bitget does not have market symbol REN/USDT:USDT\n",
      "Error during download REN/USDT:USDT 1h 1672585200000 bitget does not have market symbol REN/USDT:USDT\n",
      "Error during download REN/USDT:USDT 1h 1673305200000 bitget does not have market symbol REN/USDT:USDT\n",
      "Error during download REN/USDT:USDT 1h 1674025200000 bitget does not have market symbol REN/USDT:USDT\n",
      "Error during download REN/USDT:USDT 1h 1674745200000 bitget does not have market symbol REN/USDT:USDT\n",
      "Error during download REN/USDT:USDT 1h 1675465200000 bitget does not have market symbol REN/USDT:USDT\n",
      "Error during download REN/USDT:USDT 1h 1676185200000 bitget does not have market symbol REN/USDT:USDT\n",
      "Error during download REN/USDT:USDT 1h 1676905200000 bitget does not have market symbol REN/USDT:USDT\n",
      "Error during download REN/USDT:USDT 1h 1677625200000 bitget does not have market symbol REN/USDT:USDT\n",
      "Error during download REN/USDT:USDT 1h 1678345200000 bitget does not have market symbol REN/USDT:USDT\n",
      "Error during download REN/USDT:USDT 1h 1679065200000 bitget does not have market symbol REN/USDT:USDT\n",
      "Error during download REN/USDT:USDT 1h 1679785200000 bitget does not have market symbol REN/USDT:USDT\n",
      "Error during download REN/USDT:USDT 1h 1680505200000 bitget does not have market symbol REN/USDT:USDT\n",
      "Error during download REN/USDT:USDT 1h 1681225200000 bitget does not have market symbol REN/USDT:USDT\n",
      "Error during download REN/USDT:USDT 1h 1681945200000 bitget does not have market symbol REN/USDT:USDT\n",
      "Error during download REN/USDT:USDT 1h 1682665200000 bitget does not have market symbol REN/USDT:USDT\n",
      "Error during download REN/USDT:USDT 1h 1683385200000 bitget does not have market symbol REN/USDT:USDT\n",
      "Error during download REN/USDT:USDT 1h 1684105200000 bitget does not have market symbol REN/USDT:USDT\n",
      "Error during download REN/USDT:USDT 1h 1684825200000 bitget does not have market symbol REN/USDT:USDT\n",
      "Error during download REN/USDT:USDT 1h 1685545200000 bitget does not have market symbol REN/USDT:USDT\n",
      "Error during download REN/USDT:USDT 1h 1686265200000 bitget does not have market symbol REN/USDT:USDT\n",
      "Error during download REN/USDT:USDT 1h 1686985200000 bitget does not have market symbol REN/USDT:USDT\n",
      "Error during download REN/USDT:USDT 1h 1687705200000 bitget does not have market symbol REN/USDT:USDT\n",
      "Error during download REN/USDT:USDT 1h 1688425200000 bitget does not have market symbol REN/USDT:USDT\n",
      "Error during download REN/USDT:USDT 1h 1689145200000 bitget does not have market symbol REN/USDT:USDT\n",
      "Error during download REN/USDT:USDT 1h 1689865200000 bitget does not have market symbol REN/USDT:USDT\n",
      "Error during download REN/USDT:USDT 1h 1690585200000 bitget does not have market symbol REN/USDT:USDT\n",
      "Error during download REN/USDT:USDT 1h 1691305200000 bitget does not have market symbol REN/USDT:USDT\n",
      "Error during download REN/USDT:USDT 1h 1692025200000 bitget does not have market symbol REN/USDT:USDT\n",
      "Error during download REN/USDT:USDT 1h 1692745200000 bitget does not have market symbol REN/USDT:USDT\n",
      "Error during download REN/USDT:USDT 1h 1693465200000 bitget does not have market symbol REN/USDT:USDT\n",
      "Error during download REN/USDT:USDT 1h 1694185200000 bitget does not have market symbol REN/USDT:USDT\n",
      "Error during download REN/USDT:USDT 1h 1694905200000 bitget does not have market symbol REN/USDT:USDT\n",
      "Error during download REN/USDT:USDT 1h 1695625200000 bitget does not have market symbol REN/USDT:USDT\n",
      "Error during download REN/USDT:USDT 1h 1696345200000 bitget does not have market symbol REN/USDT:USDT\n",
      "Error during download REN/USDT:USDT 1h 1697065200000 bitget does not have market symbol REN/USDT:USDT\n",
      "Error during download REN/USDT:USDT 1h 1697785200000 bitget does not have market symbol REN/USDT:USDT\n",
      "Error during download REN/USDT:USDT 1h 1698505200000 bitget does not have market symbol REN/USDT:USDT\n",
      "Error during download REN/USDT:USDT 1h 1699225200000 bitget does not have market symbol REN/USDT:USDT\n",
      "Error during download REN/USDT:USDT 1h 1699945200000 bitget does not have market symbol REN/USDT:USDT\n",
      "Error during download REN/USDT:USDT 1h 1700665200000 bitget does not have market symbol REN/USDT:USDT\n",
      "Error during download REN/USDT:USDT 1h 1701385200000 bitget does not have market symbol REN/USDT:USDT\n",
      "Error during download REN/USDT:USDT 1h 1702105200000 bitget does not have market symbol REN/USDT:USDT\n",
      "Error during download REN/USDT:USDT 1h 1702825200000 bitget does not have market symbol REN/USDT:USDT\n",
      "Error during download REN/USDT:USDT 1h 1703545200000 bitget does not have market symbol REN/USDT:USDT\n",
      "Error during download REN/USDT:USDT 1h 1704265200000 bitget does not have market symbol REN/USDT:USDT\n",
      "Error during download REN/USDT:USDT 1h 1704985200000 bitget does not have market symbol REN/USDT:USDT\n",
      "Error during download REN/USDT:USDT 1h 1705705200000 bitget does not have market symbol REN/USDT:USDT\n",
      "Error during download REN/USDT:USDT 1h 1706425200000 bitget does not have market symbol REN/USDT:USDT\n",
      "Error during download REN/USDT:USDT 1h 1707145200000 bitget does not have market symbol REN/USDT:USDT\n",
      "Error during download REN/USDT:USDT 1h 1707865200000 bitget does not have market symbol REN/USDT:USDT\n",
      "Error during download REN/USDT:USDT 1h 1708585200000 bitget does not have market symbol REN/USDT:USDT\n",
      "Error during download REN/USDT:USDT 1h 1709305200000 bitget does not have market symbol REN/USDT:USDT\n",
      "\tPas de données pour REN/USDT:USDT en 1h sur cette période\n",
      "\u001b[H\u001b[J\tRécupération pour la paire ACH/USDT:USDT en timeframe 1h sur l'exchange bitget...\n"
     ]
    },
    {
     "data": {
      "application/vnd.jupyter.widget-view+json": {
       "model_id": "d2177c2e3ef647dd94db39efaa0560c4",
       "version_major": 2,
       "version_minor": 0
      },
      "text/plain": [
       "  0%|          | 0/315 [00:00<?, ?it/s]"
      ]
     },
     "metadata": {},
     "output_type": "display_data"
    },
    {
     "name": "stdout",
     "output_type": "stream",
     "text": [
      "\u001b[H\u001b[J\tRécupération pour la paire APE/USDT:USDT en timeframe 1h sur l'exchange bitget...\n"
     ]
    },
    {
     "data": {
      "application/vnd.jupyter.widget-view+json": {
       "model_id": "8f0d039d8b384bf5a3e3004cdcf82d83",
       "version_major": 2,
       "version_minor": 0
      },
      "text/plain": [
       "  0%|          | 0/315 [00:00<?, ?it/s]"
      ]
     },
     "metadata": {},
     "output_type": "display_data"
    },
    {
     "name": "stdout",
     "output_type": "stream",
     "text": [
      "\u001b[H\u001b[J\tRécupération pour la paire CRV/USDT:USDT en timeframe 1h sur l'exchange bitget...\n"
     ]
    },
    {
     "data": {
      "application/vnd.jupyter.widget-view+json": {
       "model_id": "443fa3c362034a6b8fd1fa0ac141d7f6",
       "version_major": 2,
       "version_minor": 0
      },
      "text/plain": [
       "  0%|          | 0/315 [00:00<?, ?it/s]"
      ]
     },
     "metadata": {},
     "output_type": "display_data"
    },
    {
     "name": "stdout",
     "output_type": "stream",
     "text": [
      "\u001b[H\u001b[J\tRécupération pour la paire DOGE/USDT:USDT en timeframe 1h sur l'exchange bitget...\n"
     ]
    },
    {
     "data": {
      "application/vnd.jupyter.widget-view+json": {
       "model_id": "5bbb094e7d4e46a5ad78c11a30a4aba5",
       "version_major": 2,
       "version_minor": 0
      },
      "text/plain": [
       "  0%|          | 0/315 [00:00<?, ?it/s]"
      ]
     },
     "metadata": {},
     "output_type": "display_data"
    },
    {
     "name": "stdout",
     "output_type": "stream",
     "text": [
      "\u001b[H\u001b[J\tRécupération pour la paire ENJ/USDT:USDT en timeframe 1h sur l'exchange bitget...\n"
     ]
    },
    {
     "data": {
      "application/vnd.jupyter.widget-view+json": {
       "model_id": "4ec4cd866d034e869e34cedac9f9da7e",
       "version_major": 2,
       "version_minor": 0
      },
      "text/plain": [
       "  0%|          | 0/315 [00:00<?, ?it/s]"
      ]
     },
     "metadata": {},
     "output_type": "display_data"
    },
    {
     "name": "stdout",
     "output_type": "stream",
     "text": [
      "\u001b[H\u001b[J\tRécupération pour la paire FET/USDT:USDT en timeframe 1h sur l'exchange bitget...\n"
     ]
    },
    {
     "data": {
      "application/vnd.jupyter.widget-view+json": {
       "model_id": "977bbad2f3154b538e44e320f0ab696f",
       "version_major": 2,
       "version_minor": 0
      },
      "text/plain": [
       "  0%|          | 0/315 [00:00<?, ?it/s]"
      ]
     },
     "metadata": {},
     "output_type": "display_data"
    },
    {
     "name": "stdout",
     "output_type": "stream",
     "text": [
      "\u001b[H\u001b[J\tRécupération pour la paire ICP/USDT:USDT en timeframe 1h sur l'exchange bitget...\n"
     ]
    },
    {
     "data": {
      "application/vnd.jupyter.widget-view+json": {
       "model_id": "44496f6657b945cda5eec42fa2cd6b39",
       "version_major": 2,
       "version_minor": 0
      },
      "text/plain": [
       "  0%|          | 0/315 [00:00<?, ?it/s]"
      ]
     },
     "metadata": {},
     "output_type": "display_data"
    },
    {
     "name": "stdout",
     "output_type": "stream",
     "text": [
      "\u001b[H\u001b[J\tRécupération pour la paire IMX/USDT:USDT en timeframe 1h sur l'exchange bitget...\n"
     ]
    },
    {
     "data": {
      "application/vnd.jupyter.widget-view+json": {
       "model_id": "f9f24e5e9f54422a84f36eb38ff932a4",
       "version_major": 2,
       "version_minor": 0
      },
      "text/plain": [
       "  0%|          | 0/315 [00:00<?, ?it/s]"
      ]
     },
     "metadata": {},
     "output_type": "display_data"
    },
    {
     "name": "stdout",
     "output_type": "stream",
     "text": [
      "\u001b[H\u001b[J\tRécupération pour la paire LDO/USDT:USDT en timeframe 1h sur l'exchange bitget...\n"
     ]
    },
    {
     "data": {
      "application/vnd.jupyter.widget-view+json": {
       "model_id": "57a1623c5f46499cbe4e0db62d41d67e",
       "version_major": 2,
       "version_minor": 0
      },
      "text/plain": [
       "  0%|          | 0/315 [00:00<?, ?it/s]"
      ]
     },
     "metadata": {},
     "output_type": "display_data"
    },
    {
     "name": "stdout",
     "output_type": "stream",
     "text": [
      "\u001b[H\u001b[J\tRécupération pour la paire MAGIC/USDT:USDT en timeframe 1h sur l'exchange bitget...\n"
     ]
    },
    {
     "data": {
      "application/vnd.jupyter.widget-view+json": {
       "model_id": "1c1df93cd419401ca54df0932b4feb2c",
       "version_major": 2,
       "version_minor": 0
      },
      "text/plain": [
       "  0%|          | 0/315 [00:00<?, ?it/s]"
      ]
     },
     "metadata": {},
     "output_type": "display_data"
    },
    {
     "name": "stdout",
     "output_type": "stream",
     "text": [
      "\u001b[H\u001b[J\tRécupération pour la paire REEF/USDT:USDT en timeframe 1h sur l'exchange bitget...\n"
     ]
    },
    {
     "data": {
      "application/vnd.jupyter.widget-view+json": {
       "model_id": "fb7a0fd8a53b4746aaa4cd911748df93",
       "version_major": 2,
       "version_minor": 0
      },
      "text/plain": [
       "  0%|          | 0/315 [00:00<?, ?it/s]"
      ]
     },
     "metadata": {},
     "output_type": "display_data"
    },
    {
     "name": "stdout",
     "output_type": "stream",
     "text": [
      "Error during download REEF/USDT:USDT 1h 1483225200000 bitget does not have market symbol REEF/USDT:USDT\n",
      "Error during download REEF/USDT:USDT 1h 1483945200000 bitget does not have market symbol REEF/USDT:USDT\n",
      "Error during download REEF/USDT:USDT 1h 1484665200000 bitget does not have market symbol REEF/USDT:USDT\n",
      "Error during download REEF/USDT:USDT 1h 1485385200000 bitget does not have market symbol REEF/USDT:USDT\n",
      "Error during download REEF/USDT:USDT 1h 1486105200000 bitget does not have market symbol REEF/USDT:USDT\n",
      "Error during download REEF/USDT:USDT 1h 1486825200000 bitget does not have market symbol REEF/USDT:USDT\n",
      "Error during download REEF/USDT:USDT 1h 1487545200000 bitget does not have market symbol REEF/USDT:USDT\n",
      "Error during download REEF/USDT:USDT 1h 1488265200000 bitget does not have market symbol REEF/USDT:USDT\n",
      "Error during download REEF/USDT:USDT 1h 1488985200000 bitget does not have market symbol REEF/USDT:USDT\n",
      "Error during download REEF/USDT:USDT 1h 1489705200000 bitget does not have market symbol REEF/USDT:USDT\n",
      "Error during download REEF/USDT:USDT 1h 1490425200000 bitget does not have market symbol REEF/USDT:USDT\n",
      "Error during download REEF/USDT:USDT 1h 1491145200000 bitget does not have market symbol REEF/USDT:USDT\n",
      "Error during download REEF/USDT:USDT 1h 1491865200000 bitget does not have market symbol REEF/USDT:USDT\n",
      "Error during download REEF/USDT:USDT 1h 1492585200000 bitget does not have market symbol REEF/USDT:USDT\n",
      "Error during download REEF/USDT:USDT 1h 1493305200000 bitget does not have market symbol REEF/USDT:USDT\n",
      "Error during download REEF/USDT:USDT 1h 1494025200000 bitget does not have market symbol REEF/USDT:USDT\n",
      "Error during download REEF/USDT:USDT 1h 1494745200000 bitget does not have market symbol REEF/USDT:USDT\n",
      "Error during download REEF/USDT:USDT 1h 1495465200000 bitget does not have market symbol REEF/USDT:USDT\n",
      "Error during download REEF/USDT:USDT 1h 1496185200000 bitget does not have market symbol REEF/USDT:USDT\n",
      "Error during download REEF/USDT:USDT 1h 1496905200000 bitget does not have market symbol REEF/USDT:USDT\n",
      "Error during download REEF/USDT:USDT 1h 1497625200000 bitget does not have market symbol REEF/USDT:USDT\n",
      "Error during download REEF/USDT:USDT 1h 1498345200000 bitget does not have market symbol REEF/USDT:USDT\n",
      "Error during download REEF/USDT:USDT 1h 1499065200000 bitget does not have market symbol REEF/USDT:USDT\n",
      "Error during download REEF/USDT:USDT 1h 1499785200000 bitget does not have market symbol REEF/USDT:USDT\n",
      "Error during download REEF/USDT:USDT 1h 1500505200000 bitget does not have market symbol REEF/USDT:USDT\n",
      "Error during download REEF/USDT:USDT 1h 1501225200000 bitget does not have market symbol REEF/USDT:USDT\n",
      "Error during download REEF/USDT:USDT 1h 1501945200000 bitget does not have market symbol REEF/USDT:USDT\n",
      "Error during download REEF/USDT:USDT 1h 1502665200000 bitget does not have market symbol REEF/USDT:USDT\n",
      "Error during download REEF/USDT:USDT 1h 1503385200000 bitget does not have market symbol REEF/USDT:USDT\n",
      "Error during download REEF/USDT:USDT 1h 1504105200000 bitget does not have market symbol REEF/USDT:USDT\n",
      "Error during download REEF/USDT:USDT 1h 1504825200000 bitget does not have market symbol REEF/USDT:USDT\n",
      "Error during download REEF/USDT:USDT 1h 1505545200000 bitget does not have market symbol REEF/USDT:USDT\n",
      "Error during download REEF/USDT:USDT 1h 1506265200000 bitget does not have market symbol REEF/USDT:USDT\n",
      "Error during download REEF/USDT:USDT 1h 1506985200000 bitget does not have market symbol REEF/USDT:USDT\n",
      "Error during download REEF/USDT:USDT 1h 1507705200000 bitget does not have market symbol REEF/USDT:USDT\n",
      "Error during download REEF/USDT:USDT 1h 1508425200000 bitget does not have market symbol REEF/USDT:USDT\n",
      "Error during download REEF/USDT:USDT 1h 1509145200000 bitget does not have market symbol REEF/USDT:USDT\n",
      "Error during download REEF/USDT:USDT 1h 1509865200000 bitget does not have market symbol REEF/USDT:USDT\n",
      "Error during download REEF/USDT:USDT 1h 1510585200000 bitget does not have market symbol REEF/USDT:USDT\n",
      "Error during download REEF/USDT:USDT 1h 1511305200000 bitget does not have market symbol REEF/USDT:USDT\n",
      "Error during download REEF/USDT:USDT 1h 1512025200000 bitget does not have market symbol REEF/USDT:USDT\n",
      "Error during download REEF/USDT:USDT 1h 1512745200000 bitget does not have market symbol REEF/USDT:USDT\n",
      "Error during download REEF/USDT:USDT 1h 1513465200000 bitget does not have market symbol REEF/USDT:USDT\n",
      "Error during download REEF/USDT:USDT 1h 1514185200000 bitget does not have market symbol REEF/USDT:USDT\n",
      "Error during download REEF/USDT:USDT 1h 1514905200000 bitget does not have market symbol REEF/USDT:USDT\n",
      "Error during download REEF/USDT:USDT 1h 1515625200000 bitget does not have market symbol REEF/USDT:USDT\n",
      "Error during download REEF/USDT:USDT 1h 1516345200000 bitget does not have market symbol REEF/USDT:USDT\n",
      "Error during download REEF/USDT:USDT 1h 1517065200000 bitget does not have market symbol REEF/USDT:USDT\n",
      "Error during download REEF/USDT:USDT 1h 1517785200000 bitget does not have market symbol REEF/USDT:USDT\n",
      "Error during download REEF/USDT:USDT 1h 1518505200000 bitget does not have market symbol REEF/USDT:USDT\n",
      "Error during download REEF/USDT:USDT 1h 1519225200000 bitget does not have market symbol REEF/USDT:USDT\n",
      "Error during download REEF/USDT:USDT 1h 1519945200000 bitget does not have market symbol REEF/USDT:USDT\n",
      "Error during download REEF/USDT:USDT 1h 1520665200000 bitget does not have market symbol REEF/USDT:USDT\n",
      "Error during download REEF/USDT:USDT 1h 1521385200000 bitget does not have market symbol REEF/USDT:USDT\n",
      "Error during download REEF/USDT:USDT 1h 1522105200000 bitget does not have market symbol REEF/USDT:USDT\n",
      "Error during download REEF/USDT:USDT 1h 1522825200000 bitget does not have market symbol REEF/USDT:USDT\n",
      "Error during download REEF/USDT:USDT 1h 1523545200000 bitget does not have market symbol REEF/USDT:USDT\n",
      "Error during download REEF/USDT:USDT 1h 1524265200000 bitget does not have market symbol REEF/USDT:USDT\n",
      "Error during download REEF/USDT:USDT 1h 1524985200000 bitget does not have market symbol REEF/USDT:USDT\n",
      "Error during download REEF/USDT:USDT 1h 1525705200000 bitget does not have market symbol REEF/USDT:USDT\n",
      "Error during download REEF/USDT:USDT 1h 1526425200000 bitget does not have market symbol REEF/USDT:USDT\n",
      "Error during download REEF/USDT:USDT 1h 1527145200000 bitget does not have market symbol REEF/USDT:USDT\n",
      "Error during download REEF/USDT:USDT 1h 1527865200000 bitget does not have market symbol REEF/USDT:USDT\n",
      "Error during download REEF/USDT:USDT 1h 1528585200000 bitget does not have market symbol REEF/USDT:USDT\n",
      "Error during download REEF/USDT:USDT 1h 1529305200000 bitget does not have market symbol REEF/USDT:USDT\n",
      "Error during download REEF/USDT:USDT 1h 1530025200000 bitget does not have market symbol REEF/USDT:USDT\n",
      "Error during download REEF/USDT:USDT 1h 1530745200000 bitget does not have market symbol REEF/USDT:USDT\n",
      "Error during download REEF/USDT:USDT 1h 1531465200000 bitget does not have market symbol REEF/USDT:USDT\n",
      "Error during download REEF/USDT:USDT 1h 1532185200000 bitget does not have market symbol REEF/USDT:USDT\n",
      "Error during download REEF/USDT:USDT 1h 1532905200000 bitget does not have market symbol REEF/USDT:USDT\n",
      "Error during download REEF/USDT:USDT 1h 1533625200000 bitget does not have market symbol REEF/USDT:USDT\n",
      "Error during download REEF/USDT:USDT 1h 1534345200000 bitget does not have market symbol REEF/USDT:USDT\n",
      "Error during download REEF/USDT:USDT 1h 1535065200000 bitget does not have market symbol REEF/USDT:USDT\n",
      "Error during download REEF/USDT:USDT 1h 1535785200000 bitget does not have market symbol REEF/USDT:USDT\n",
      "Error during download REEF/USDT:USDT 1h 1536505200000 bitget does not have market symbol REEF/USDT:USDT\n",
      "Error during download REEF/USDT:USDT 1h 1537225200000 bitget does not have market symbol REEF/USDT:USDT\n",
      "Error during download REEF/USDT:USDT 1h 1537945200000 bitget does not have market symbol REEF/USDT:USDT\n",
      "Error during download REEF/USDT:USDT 1h 1538665200000 bitget does not have market symbol REEF/USDT:USDT\n",
      "Error during download REEF/USDT:USDT 1h 1539385200000 bitget does not have market symbol REEF/USDT:USDT\n",
      "Error during download REEF/USDT:USDT 1h 1540105200000 bitget does not have market symbol REEF/USDT:USDT\n",
      "Error during download REEF/USDT:USDT 1h 1540825200000 bitget does not have market symbol REEF/USDT:USDT\n",
      "Error during download REEF/USDT:USDT 1h 1541545200000 bitget does not have market symbol REEF/USDT:USDT\n",
      "Error during download REEF/USDT:USDT 1h 1542265200000 bitget does not have market symbol REEF/USDT:USDT\n",
      "Error during download REEF/USDT:USDT 1h 1542985200000 bitget does not have market symbol REEF/USDT:USDT\n",
      "Error during download REEF/USDT:USDT 1h 1543705200000 bitget does not have market symbol REEF/USDT:USDT\n",
      "Error during download REEF/USDT:USDT 1h 1544425200000 bitget does not have market symbol REEF/USDT:USDT\n",
      "Error during download REEF/USDT:USDT 1h 1545145200000 bitget does not have market symbol REEF/USDT:USDT\n",
      "Error during download REEF/USDT:USDT 1h 1545865200000 bitget does not have market symbol REEF/USDT:USDT\n",
      "Error during download REEF/USDT:USDT 1h 1546585200000 bitget does not have market symbol REEF/USDT:USDT\n",
      "Error during download REEF/USDT:USDT 1h 1547305200000 bitget does not have market symbol REEF/USDT:USDT\n",
      "Error during download REEF/USDT:USDT 1h 1548025200000 bitget does not have market symbol REEF/USDT:USDT\n",
      "Error during download REEF/USDT:USDT 1h 1548745200000 bitget does not have market symbol REEF/USDT:USDT\n",
      "Error during download REEF/USDT:USDT 1h 1549465200000 bitget does not have market symbol REEF/USDT:USDT\n",
      "Error during download REEF/USDT:USDT 1h 1550185200000 bitget does not have market symbol REEF/USDT:USDT\n",
      "Error during download REEF/USDT:USDT 1h 1550905200000 bitget does not have market symbol REEF/USDT:USDT\n",
      "Error during download REEF/USDT:USDT 1h 1551625200000 bitget does not have market symbol REEF/USDT:USDT\n",
      "Error during download REEF/USDT:USDT 1h 1552345200000 bitget does not have market symbol REEF/USDT:USDT\n",
      "Error during download REEF/USDT:USDT 1h 1553065200000 bitget does not have market symbol REEF/USDT:USDT\n",
      "Error during download REEF/USDT:USDT 1h 1553785200000 bitget does not have market symbol REEF/USDT:USDT\n",
      "Error during download REEF/USDT:USDT 1h 1554505200000 bitget does not have market symbol REEF/USDT:USDT\n",
      "Error during download REEF/USDT:USDT 1h 1555225200000 bitget does not have market symbol REEF/USDT:USDT\n",
      "Error during download REEF/USDT:USDT 1h 1555945200000 bitget does not have market symbol REEF/USDT:USDT\n",
      "Error during download REEF/USDT:USDT 1h 1556665200000 bitget does not have market symbol REEF/USDT:USDT\n",
      "Error during download REEF/USDT:USDT 1h 1557385200000 bitget does not have market symbol REEF/USDT:USDT\n",
      "Error during download REEF/USDT:USDT 1h 1558105200000 bitget does not have market symbol REEF/USDT:USDT\n",
      "Error during download REEF/USDT:USDT 1h 1558825200000 bitget does not have market symbol REEF/USDT:USDT\n",
      "Error during download REEF/USDT:USDT 1h 1559545200000 bitget does not have market symbol REEF/USDT:USDT\n",
      "Error during download REEF/USDT:USDT 1h 1560265200000 bitget does not have market symbol REEF/USDT:USDT\n",
      "Error during download REEF/USDT:USDT 1h 1560985200000 bitget does not have market symbol REEF/USDT:USDT\n",
      "Error during download REEF/USDT:USDT 1h 1561705200000 bitget does not have market symbol REEF/USDT:USDT\n",
      "Error during download REEF/USDT:USDT 1h 1562425200000 bitget does not have market symbol REEF/USDT:USDT\n",
      "Error during download REEF/USDT:USDT 1h 1563145200000 bitget does not have market symbol REEF/USDT:USDT\n",
      "Error during download REEF/USDT:USDT 1h 1563865200000 bitget does not have market symbol REEF/USDT:USDT\n",
      "Error during download REEF/USDT:USDT 1h 1564585200000 bitget does not have market symbol REEF/USDT:USDT\n",
      "Error during download REEF/USDT:USDT 1h 1565305200000 bitget does not have market symbol REEF/USDT:USDT\n",
      "Error during download REEF/USDT:USDT 1h 1566025200000 bitget does not have market symbol REEF/USDT:USDT\n",
      "Error during download REEF/USDT:USDT 1h 1566745200000 bitget does not have market symbol REEF/USDT:USDT\n",
      "Error during download REEF/USDT:USDT 1h 1567465200000 bitget does not have market symbol REEF/USDT:USDT\n",
      "Error during download REEF/USDT:USDT 1h 1568185200000 bitget does not have market symbol REEF/USDT:USDT\n",
      "Error during download REEF/USDT:USDT 1h 1568905200000 bitget does not have market symbol REEF/USDT:USDT\n",
      "Error during download REEF/USDT:USDT 1h 1569625200000 bitget does not have market symbol REEF/USDT:USDT\n",
      "Error during download REEF/USDT:USDT 1h 1570345200000 bitget does not have market symbol REEF/USDT:USDT\n",
      "Error during download REEF/USDT:USDT 1h 1571065200000 bitget does not have market symbol REEF/USDT:USDT\n",
      "Error during download REEF/USDT:USDT 1h 1571785200000 bitget does not have market symbol REEF/USDT:USDT\n",
      "Error during download REEF/USDT:USDT 1h 1572505200000 bitget does not have market symbol REEF/USDT:USDT\n",
      "Error during download REEF/USDT:USDT 1h 1573225200000 bitget does not have market symbol REEF/USDT:USDT\n",
      "Error during download REEF/USDT:USDT 1h 1573945200000 bitget does not have market symbol REEF/USDT:USDT\n",
      "Error during download REEF/USDT:USDT 1h 1574665200000 bitget does not have market symbol REEF/USDT:USDT\n",
      "Error during download REEF/USDT:USDT 1h 1575385200000 bitget does not have market symbol REEF/USDT:USDT\n",
      "Error during download REEF/USDT:USDT 1h 1576105200000 bitget does not have market symbol REEF/USDT:USDT\n",
      "Error during download REEF/USDT:USDT 1h 1576825200000 bitget does not have market symbol REEF/USDT:USDT\n",
      "Error during download REEF/USDT:USDT 1h 1577545200000 bitget does not have market symbol REEF/USDT:USDT\n",
      "Error during download REEF/USDT:USDT 1h 1578265200000 bitget does not have market symbol REEF/USDT:USDT\n",
      "Error during download REEF/USDT:USDT 1h 1578985200000 bitget does not have market symbol REEF/USDT:USDT\n",
      "Error during download REEF/USDT:USDT 1h 1579705200000 bitget does not have market symbol REEF/USDT:USDT\n",
      "Error during download REEF/USDT:USDT 1h 1580425200000 bitget does not have market symbol REEF/USDT:USDT\n",
      "Error during download REEF/USDT:USDT 1h 1581145200000 bitget does not have market symbol REEF/USDT:USDT\n",
      "Error during download REEF/USDT:USDT 1h 1581865200000 bitget does not have market symbol REEF/USDT:USDT\n",
      "Error during download REEF/USDT:USDT 1h 1582585200000 bitget does not have market symbol REEF/USDT:USDT\n",
      "Error during download REEF/USDT:USDT 1h 1583305200000 bitget does not have market symbol REEF/USDT:USDT\n",
      "Error during download REEF/USDT:USDT 1h 1584025200000 bitget does not have market symbol REEF/USDT:USDT\n",
      "Error during download REEF/USDT:USDT 1h 1584745200000 bitget does not have market symbol REEF/USDT:USDT\n",
      "Error during download REEF/USDT:USDT 1h 1585465200000 bitget does not have market symbol REEF/USDT:USDT\n",
      "Error during download REEF/USDT:USDT 1h 1586185200000 bitget does not have market symbol REEF/USDT:USDT\n",
      "Error during download REEF/USDT:USDT 1h 1586905200000 bitget does not have market symbol REEF/USDT:USDT\n",
      "Error during download REEF/USDT:USDT 1h 1587625200000 bitget does not have market symbol REEF/USDT:USDT\n",
      "Error during download REEF/USDT:USDT 1h 1588345200000 bitget does not have market symbol REEF/USDT:USDT\n",
      "Error during download REEF/USDT:USDT 1h 1589065200000 bitget does not have market symbol REEF/USDT:USDT\n",
      "Error during download REEF/USDT:USDT 1h 1589785200000 bitget does not have market symbol REEF/USDT:USDT\n",
      "Error during download REEF/USDT:USDT 1h 1590505200000 bitget does not have market symbol REEF/USDT:USDT\n",
      "Error during download REEF/USDT:USDT 1h 1591225200000 bitget does not have market symbol REEF/USDT:USDT\n",
      "Error during download REEF/USDT:USDT 1h 1591945200000 bitget does not have market symbol REEF/USDT:USDT\n",
      "Error during download REEF/USDT:USDT 1h 1592665200000 bitget does not have market symbol REEF/USDT:USDT\n",
      "Error during download REEF/USDT:USDT 1h 1593385200000 bitget does not have market symbol REEF/USDT:USDT\n",
      "Error during download REEF/USDT:USDT 1h 1594105200000 bitget does not have market symbol REEF/USDT:USDT\n",
      "Error during download REEF/USDT:USDT 1h 1594825200000 bitget does not have market symbol REEF/USDT:USDT\n",
      "Error during download REEF/USDT:USDT 1h 1595545200000 bitget does not have market symbol REEF/USDT:USDT\n",
      "Error during download REEF/USDT:USDT 1h 1596265200000 bitget does not have market symbol REEF/USDT:USDT\n",
      "Error during download REEF/USDT:USDT 1h 1596985200000 bitget does not have market symbol REEF/USDT:USDT\n",
      "Error during download REEF/USDT:USDT 1h 1597705200000 bitget does not have market symbol REEF/USDT:USDT\n",
      "Error during download REEF/USDT:USDT 1h 1598425200000 bitget does not have market symbol REEF/USDT:USDT\n",
      "Error during download REEF/USDT:USDT 1h 1599145200000 bitget does not have market symbol REEF/USDT:USDT\n",
      "Error during download REEF/USDT:USDT 1h 1599865200000 bitget does not have market symbol REEF/USDT:USDT\n",
      "Error during download REEF/USDT:USDT 1h 1600585200000 bitget does not have market symbol REEF/USDT:USDT\n",
      "Error during download REEF/USDT:USDT 1h 1601305200000 bitget does not have market symbol REEF/USDT:USDT\n",
      "Error during download REEF/USDT:USDT 1h 1602025200000 bitget does not have market symbol REEF/USDT:USDT\n",
      "Error during download REEF/USDT:USDT 1h 1602745200000 bitget does not have market symbol REEF/USDT:USDT\n",
      "Error during download REEF/USDT:USDT 1h 1603465200000 bitget does not have market symbol REEF/USDT:USDT\n",
      "Error during download REEF/USDT:USDT 1h 1604185200000 bitget does not have market symbol REEF/USDT:USDT\n",
      "Error during download REEF/USDT:USDT 1h 1604905200000 bitget does not have market symbol REEF/USDT:USDT\n",
      "Error during download REEF/USDT:USDT 1h 1605625200000 bitget does not have market symbol REEF/USDT:USDT\n",
      "Error during download REEF/USDT:USDT 1h 1606345200000 bitget does not have market symbol REEF/USDT:USDT\n",
      "Error during download REEF/USDT:USDT 1h 1607065200000 bitget does not have market symbol REEF/USDT:USDT\n",
      "Error during download REEF/USDT:USDT 1h 1607785200000 bitget does not have market symbol REEF/USDT:USDT\n",
      "Error during download REEF/USDT:USDT 1h 1608505200000 bitget does not have market symbol REEF/USDT:USDT\n",
      "Error during download REEF/USDT:USDT 1h 1609225200000 bitget does not have market symbol REEF/USDT:USDT\n",
      "Error during download REEF/USDT:USDT 1h 1609945200000 bitget does not have market symbol REEF/USDT:USDT\n",
      "Error during download REEF/USDT:USDT 1h 1610665200000 bitget does not have market symbol REEF/USDT:USDT\n",
      "Error during download REEF/USDT:USDT 1h 1611385200000 bitget does not have market symbol REEF/USDT:USDT\n",
      "Error during download REEF/USDT:USDT 1h 1612105200000 bitget does not have market symbol REEF/USDT:USDT\n",
      "Error during download REEF/USDT:USDT 1h 1612825200000 bitget does not have market symbol REEF/USDT:USDT\n",
      "Error during download REEF/USDT:USDT 1h 1613545200000 bitget does not have market symbol REEF/USDT:USDT\n",
      "Error during download REEF/USDT:USDT 1h 1614265200000 bitget does not have market symbol REEF/USDT:USDT\n",
      "Error during download REEF/USDT:USDT 1h 1614985200000 bitget does not have market symbol REEF/USDT:USDT\n",
      "Error during download REEF/USDT:USDT 1h 1615705200000 bitget does not have market symbol REEF/USDT:USDT\n",
      "Error during download REEF/USDT:USDT 1h 1616425200000 bitget does not have market symbol REEF/USDT:USDT\n",
      "Error during download REEF/USDT:USDT 1h 1617145200000 bitget does not have market symbol REEF/USDT:USDT\n",
      "Error during download REEF/USDT:USDT 1h 1617865200000 bitget does not have market symbol REEF/USDT:USDT\n",
      "Error during download REEF/USDT:USDT 1h 1618585200000 bitget does not have market symbol REEF/USDT:USDT\n",
      "Error during download REEF/USDT:USDT 1h 1619305200000 bitget does not have market symbol REEF/USDT:USDT\n",
      "Error during download REEF/USDT:USDT 1h 1620025200000 bitget does not have market symbol REEF/USDT:USDT\n",
      "Error during download REEF/USDT:USDT 1h 1620745200000 bitget does not have market symbol REEF/USDT:USDT\n",
      "Error during download REEF/USDT:USDT 1h 1621465200000 bitget does not have market symbol REEF/USDT:USDT\n",
      "Error during download REEF/USDT:USDT 1h 1622185200000 bitget does not have market symbol REEF/USDT:USDT\n",
      "Error during download REEF/USDT:USDT 1h 1622905200000 bitget does not have market symbol REEF/USDT:USDT\n",
      "Error during download REEF/USDT:USDT 1h 1623625200000 bitget does not have market symbol REEF/USDT:USDT\n",
      "Error during download REEF/USDT:USDT 1h 1624345200000 bitget does not have market symbol REEF/USDT:USDT\n",
      "Error during download REEF/USDT:USDT 1h 1625065200000 bitget does not have market symbol REEF/USDT:USDT\n",
      "Error during download REEF/USDT:USDT 1h 1625785200000 bitget does not have market symbol REEF/USDT:USDT\n",
      "Error during download REEF/USDT:USDT 1h 1626505200000 bitget does not have market symbol REEF/USDT:USDT\n",
      "Error during download REEF/USDT:USDT 1h 1627225200000 bitget does not have market symbol REEF/USDT:USDT\n",
      "Error during download REEF/USDT:USDT 1h 1627945200000 bitget does not have market symbol REEF/USDT:USDT\n",
      "Error during download REEF/USDT:USDT 1h 1628665200000 bitget does not have market symbol REEF/USDT:USDT\n",
      "Error during download REEF/USDT:USDT 1h 1629385200000 bitget does not have market symbol REEF/USDT:USDT\n",
      "Error during download REEF/USDT:USDT 1h 1630105200000 bitget does not have market symbol REEF/USDT:USDT\n",
      "Error during download REEF/USDT:USDT 1h 1630825200000 bitget does not have market symbol REEF/USDT:USDT\n",
      "Error during download REEF/USDT:USDT 1h 1631545200000 bitget does not have market symbol REEF/USDT:USDT\n",
      "Error during download REEF/USDT:USDT 1h 1632265200000 bitget does not have market symbol REEF/USDT:USDT\n",
      "Error during download REEF/USDT:USDT 1h 1632985200000 bitget does not have market symbol REEF/USDT:USDT\n",
      "Error during download REEF/USDT:USDT 1h 1633705200000 bitget does not have market symbol REEF/USDT:USDT\n",
      "Error during download REEF/USDT:USDT 1h 1634425200000 bitget does not have market symbol REEF/USDT:USDT\n",
      "Error during download REEF/USDT:USDT 1h 1635145200000 bitget does not have market symbol REEF/USDT:USDT\n",
      "Error during download REEF/USDT:USDT 1h 1635865200000 bitget does not have market symbol REEF/USDT:USDT\n",
      "Error during download REEF/USDT:USDT 1h 1636585200000 bitget does not have market symbol REEF/USDT:USDT\n",
      "Error during download REEF/USDT:USDT 1h 1637305200000 bitget does not have market symbol REEF/USDT:USDT\n",
      "Error during download REEF/USDT:USDT 1h 1638025200000 bitget does not have market symbol REEF/USDT:USDT\n",
      "Error during download REEF/USDT:USDT 1h 1638745200000 bitget does not have market symbol REEF/USDT:USDT\n",
      "Error during download REEF/USDT:USDT 1h 1639465200000 bitget does not have market symbol REEF/USDT:USDT\n",
      "Error during download REEF/USDT:USDT 1h 1640185200000 bitget does not have market symbol REEF/USDT:USDT\n",
      "Error during download REEF/USDT:USDT 1h 1640905200000 bitget does not have market symbol REEF/USDT:USDT\n",
      "Error during download REEF/USDT:USDT 1h 1641625200000 bitget does not have market symbol REEF/USDT:USDT\n",
      "Error during download REEF/USDT:USDT 1h 1642345200000 bitget does not have market symbol REEF/USDT:USDT\n",
      "Error during download REEF/USDT:USDT 1h 1643065200000 bitget does not have market symbol REEF/USDT:USDT\n",
      "Error during download REEF/USDT:USDT 1h 1643785200000 bitget does not have market symbol REEF/USDT:USDT\n",
      "Error during download REEF/USDT:USDT 1h 1644505200000 bitget does not have market symbol REEF/USDT:USDT\n",
      "Error during download REEF/USDT:USDT 1h 1645225200000 bitget does not have market symbol REEF/USDT:USDT\n",
      "Error during download REEF/USDT:USDT 1h 1645945200000 bitget does not have market symbol REEF/USDT:USDT\n",
      "Error during download REEF/USDT:USDT 1h 1646665200000 bitget does not have market symbol REEF/USDT:USDT\n",
      "Error during download REEF/USDT:USDT 1h 1647385200000 bitget does not have market symbol REEF/USDT:USDT\n",
      "Error during download REEF/USDT:USDT 1h 1648105200000 bitget does not have market symbol REEF/USDT:USDT\n",
      "Error during download REEF/USDT:USDT 1h 1648825200000 bitget does not have market symbol REEF/USDT:USDT\n",
      "Error during download REEF/USDT:USDT 1h 1649545200000 bitget does not have market symbol REEF/USDT:USDT\n",
      "Error during download REEF/USDT:USDT 1h 1650265200000 bitget does not have market symbol REEF/USDT:USDT\n",
      "Error during download REEF/USDT:USDT 1h 1650985200000 bitget does not have market symbol REEF/USDT:USDT\n",
      "Error during download REEF/USDT:USDT 1h 1651705200000 bitget does not have market symbol REEF/USDT:USDT\n",
      "Error during download REEF/USDT:USDT 1h 1652425200000 bitget does not have market symbol REEF/USDT:USDT\n",
      "Error during download REEF/USDT:USDT 1h 1653145200000 bitget does not have market symbol REEF/USDT:USDT\n",
      "Error during download REEF/USDT:USDT 1h 1653865200000 bitget does not have market symbol REEF/USDT:USDT\n",
      "Error during download REEF/USDT:USDT 1h 1654585200000 bitget does not have market symbol REEF/USDT:USDT\n",
      "Error during download REEF/USDT:USDT 1h 1655305200000 bitget does not have market symbol REEF/USDT:USDT\n",
      "Error during download REEF/USDT:USDT 1h 1656025200000 bitget does not have market symbol REEF/USDT:USDT\n",
      "Error during download REEF/USDT:USDT 1h 1656745200000 bitget does not have market symbol REEF/USDT:USDT\n",
      "Error during download REEF/USDT:USDT 1h 1657465200000 bitget does not have market symbol REEF/USDT:USDT\n",
      "Error during download REEF/USDT:USDT 1h 1658185200000 bitget does not have market symbol REEF/USDT:USDT\n",
      "Error during download REEF/USDT:USDT 1h 1658905200000 bitget does not have market symbol REEF/USDT:USDT\n",
      "Error during download REEF/USDT:USDT 1h 1659625200000 bitget does not have market symbol REEF/USDT:USDT\n",
      "Error during download REEF/USDT:USDT 1h 1660345200000 bitget does not have market symbol REEF/USDT:USDT\n",
      "Error during download REEF/USDT:USDT 1h 1661065200000 bitget does not have market symbol REEF/USDT:USDT\n",
      "Error during download REEF/USDT:USDT 1h 1661785200000 bitget does not have market symbol REEF/USDT:USDT\n",
      "Error during download REEF/USDT:USDT 1h 1662505200000 bitget does not have market symbol REEF/USDT:USDT\n",
      "Error during download REEF/USDT:USDT 1h 1663225200000 bitget does not have market symbol REEF/USDT:USDT\n",
      "Error during download REEF/USDT:USDT 1h 1663945200000 bitget does not have market symbol REEF/USDT:USDT\n",
      "Error during download REEF/USDT:USDT 1h 1664665200000 bitget does not have market symbol REEF/USDT:USDT\n",
      "Error during download REEF/USDT:USDT 1h 1665385200000 bitget does not have market symbol REEF/USDT:USDT\n",
      "Error during download REEF/USDT:USDT 1h 1666105200000 bitget does not have market symbol REEF/USDT:USDT\n",
      "Error during download REEF/USDT:USDT 1h 1666825200000 bitget does not have market symbol REEF/USDT:USDT\n",
      "Error during download REEF/USDT:USDT 1h 1667545200000 bitget does not have market symbol REEF/USDT:USDT\n",
      "Error during download REEF/USDT:USDT 1h 1668265200000 bitget does not have market symbol REEF/USDT:USDT\n",
      "Error during download REEF/USDT:USDT 1h 1668985200000 bitget does not have market symbol REEF/USDT:USDT\n",
      "Error during download REEF/USDT:USDT 1h 1669705200000 bitget does not have market symbol REEF/USDT:USDT\n",
      "Error during download REEF/USDT:USDT 1h 1670425200000 bitget does not have market symbol REEF/USDT:USDT\n",
      "Error during download REEF/USDT:USDT 1h 1671145200000 bitget does not have market symbol REEF/USDT:USDT\n",
      "Error during download REEF/USDT:USDT 1h 1671865200000 bitget does not have market symbol REEF/USDT:USDT\n",
      "Error during download REEF/USDT:USDT 1h 1672585200000 bitget does not have market symbol REEF/USDT:USDT\n",
      "Error during download REEF/USDT:USDT 1h 1673305200000 bitget does not have market symbol REEF/USDT:USDT\n",
      "Error during download REEF/USDT:USDT 1h 1674025200000 bitget does not have market symbol REEF/USDT:USDT\n",
      "Error during download REEF/USDT:USDT 1h 1674745200000 bitget does not have market symbol REEF/USDT:USDT\n",
      "Error during download REEF/USDT:USDT 1h 1675465200000 bitget does not have market symbol REEF/USDT:USDT\n",
      "Error during download REEF/USDT:USDT 1h 1676185200000 bitget does not have market symbol REEF/USDT:USDT\n",
      "Error during download REEF/USDT:USDT 1h 1676905200000 bitget does not have market symbol REEF/USDT:USDT\n",
      "Error during download REEF/USDT:USDT 1h 1677625200000 bitget does not have market symbol REEF/USDT:USDT\n",
      "Error during download REEF/USDT:USDT 1h 1678345200000 bitget does not have market symbol REEF/USDT:USDT\n",
      "Error during download REEF/USDT:USDT 1h 1679065200000 bitget does not have market symbol REEF/USDT:USDT\n",
      "Error during download REEF/USDT:USDT 1h 1679785200000 bitget does not have market symbol REEF/USDT:USDT\n",
      "Error during download REEF/USDT:USDT 1h 1680505200000 bitget does not have market symbol REEF/USDT:USDT\n",
      "Error during download REEF/USDT:USDT 1h 1681225200000 bitget does not have market symbol REEF/USDT:USDT\n",
      "Error during download REEF/USDT:USDT 1h 1681945200000 bitget does not have market symbol REEF/USDT:USDT\n",
      "Error during download REEF/USDT:USDT 1h 1682665200000 bitget does not have market symbol REEF/USDT:USDT\n",
      "Error during download REEF/USDT:USDT 1h 1683385200000 bitget does not have market symbol REEF/USDT:USDT\n",
      "Error during download REEF/USDT:USDT 1h 1684105200000 bitget does not have market symbol REEF/USDT:USDT\n",
      "Error during download REEF/USDT:USDT 1h 1684825200000 bitget does not have market symbol REEF/USDT:USDT\n",
      "Error during download REEF/USDT:USDT 1h 1685545200000 bitget does not have market symbol REEF/USDT:USDT\n",
      "Error during download REEF/USDT:USDT 1h 1686265200000 bitget does not have market symbol REEF/USDT:USDT\n",
      "Error during download REEF/USDT:USDT 1h 1686985200000 bitget does not have market symbol REEF/USDT:USDT\n",
      "Error during download REEF/USDT:USDT 1h 1687705200000 bitget does not have market symbol REEF/USDT:USDT\n",
      "Error during download REEF/USDT:USDT 1h 1688425200000 bitget does not have market symbol REEF/USDT:USDT\n",
      "Error during download REEF/USDT:USDT 1h 1689145200000 bitget does not have market symbol REEF/USDT:USDT\n",
      "Error during download REEF/USDT:USDT 1h 1689865200000 bitget does not have market symbol REEF/USDT:USDT\n",
      "Error during download REEF/USDT:USDT 1h 1690585200000 bitget does not have market symbol REEF/USDT:USDT\n",
      "Error during download REEF/USDT:USDT 1h 1691305200000 bitget does not have market symbol REEF/USDT:USDT\n",
      "Error during download REEF/USDT:USDT 1h 1692025200000 bitget does not have market symbol REEF/USDT:USDT\n",
      "Error during download REEF/USDT:USDT 1h 1692745200000 bitget does not have market symbol REEF/USDT:USDT\n",
      "Error during download REEF/USDT:USDT 1h 1693465200000 bitget does not have market symbol REEF/USDT:USDT\n",
      "Error during download REEF/USDT:USDT 1h 1694185200000 bitget does not have market symbol REEF/USDT:USDT\n",
      "Error during download REEF/USDT:USDT 1h 1694905200000 bitget does not have market symbol REEF/USDT:USDT\n",
      "Error during download REEF/USDT:USDT 1h 1695625200000 bitget does not have market symbol REEF/USDT:USDT\n",
      "Error during download REEF/USDT:USDT 1h 1696345200000 bitget does not have market symbol REEF/USDT:USDT\n",
      "Error during download REEF/USDT:USDT 1h 1697065200000 bitget does not have market symbol REEF/USDT:USDT\n",
      "Error during download REEF/USDT:USDT 1h 1697785200000 bitget does not have market symbol REEF/USDT:USDT\n",
      "Error during download REEF/USDT:USDT 1h 1698505200000 bitget does not have market symbol REEF/USDT:USDT\n",
      "Error during download REEF/USDT:USDT 1h 1699225200000 bitget does not have market symbol REEF/USDT:USDT\n",
      "Error during download REEF/USDT:USDT 1h 1699945200000 bitget does not have market symbol REEF/USDT:USDT\n",
      "Error during download REEF/USDT:USDT 1h 1700665200000 bitget does not have market symbol REEF/USDT:USDT\n",
      "Error during download REEF/USDT:USDT 1h 1701385200000 bitget does not have market symbol REEF/USDT:USDT\n",
      "Error during download REEF/USDT:USDT 1h 1702105200000 bitget does not have market symbol REEF/USDT:USDT\n",
      "Error during download REEF/USDT:USDT 1h 1702825200000 bitget does not have market symbol REEF/USDT:USDT\n",
      "Error during download REEF/USDT:USDT 1h 1703545200000 bitget does not have market symbol REEF/USDT:USDT\n",
      "Error during download REEF/USDT:USDT 1h 1704265200000 bitget does not have market symbol REEF/USDT:USDT\n",
      "Error during download REEF/USDT:USDT 1h 1704985200000 bitget does not have market symbol REEF/USDT:USDT\n",
      "Error during download REEF/USDT:USDT 1h 1705705200000 bitget does not have market symbol REEF/USDT:USDT\n",
      "Error during download REEF/USDT:USDT 1h 1706425200000 bitget does not have market symbol REEF/USDT:USDT\n",
      "Error during download REEF/USDT:USDT 1h 1707145200000 bitget does not have market symbol REEF/USDT:USDT\n",
      "Error during download REEF/USDT:USDT 1h 1707865200000 bitget does not have market symbol REEF/USDT:USDT\n",
      "Error during download REEF/USDT:USDT 1h 1708585200000 bitget does not have market symbol REEF/USDT:USDT\n",
      "Error during download REEF/USDT:USDT 1h 1709305200000 bitget does not have market symbol REEF/USDT:USDT\n",
      "\tPas de données pour REEF/USDT:USDT en 1h sur cette période\n",
      "\u001b[H\u001b[J\tRécupération pour la paire SAND/USDT:USDT en timeframe 1h sur l'exchange bitget...\n"
     ]
    },
    {
     "data": {
      "application/vnd.jupyter.widget-view+json": {
       "model_id": "9ab3f0e45c5e41f88fae1734ec67c65a",
       "version_major": 2,
       "version_minor": 0
      },
      "text/plain": [
       "  0%|          | 0/315 [00:00<?, ?it/s]"
      ]
     },
     "metadata": {},
     "output_type": "display_data"
    },
    {
     "name": "stdout",
     "output_type": "stream",
     "text": [
      "\u001b[H\u001b[J\tRécupération pour la paire TRX/USDT:USDT en timeframe 1h sur l'exchange bitget...\n"
     ]
    },
    {
     "data": {
      "application/vnd.jupyter.widget-view+json": {
       "model_id": "ba0d807305b242fc84d46a74c4c00379",
       "version_major": 2,
       "version_minor": 0
      },
      "text/plain": [
       "  0%|          | 0/315 [00:00<?, ?it/s]"
      ]
     },
     "metadata": {},
     "output_type": "display_data"
    },
    {
     "name": "stdout",
     "output_type": "stream",
     "text": [
      "\u001b[H\u001b[J\tRécupération pour la paire XTZ/USDT:USDT en timeframe 1h sur l'exchange bitget...\n"
     ]
    },
    {
     "data": {
      "application/vnd.jupyter.widget-view+json": {
       "model_id": "07779ea8254e47b4941aa0a388b4cbd0",
       "version_major": 2,
       "version_minor": 0
      },
      "text/plain": [
       "  0%|          | 0/315 [00:00<?, ?it/s]"
      ]
     },
     "metadata": {},
     "output_type": "display_data"
    },
    {
     "name": "stdout",
     "output_type": "stream",
     "text": [
      "\u001b[H\u001b[J"
     ]
    }
   ],
   "source": [
    "exchange_name = \"bitget\"\n",
    "\n",
    "intervals = [\"1h\"]\n",
    "\n",
    "coin_to_dl = [\n",
    "    \"BTC/USDT:USDT\",\n",
    "    \"ETH/USDT:USDT\",\n",
    "    \"ADA/USDT:USDT\",\n",
    "    \"AVAX/USDT:USDT\",\n",
    "    \"EGLD/USDT:USDT\",\n",
    "    \"KSM/USDT:USDT\",\n",
    "    \"OCEAN/USDT:USDT\",\n",
    "    \"REN/USDT:USDT\",\n",
    "    \"ACH/USDT:USDT\",\n",
    "    \"APE/USDT:USDT\",\n",
    "    \"CRV/USDT:USDT\",\n",
    "    \"DOGE/USDT:USDT\",\n",
    "    \"ENJ/USDT:USDT\",\n",
    "    \"FET/USDT:USDT\",\n",
    "    \"ICP/USDT:USDT\",\n",
    "    \"IMX/USDT:USDT\",\n",
    "    \"LDO/USDT:USDT\",\n",
    "    \"MAGIC/USDT:USDT\",\n",
    "    \"REEF/USDT:USDT\",\n",
    "    \"SAND/USDT:USDT\",\n",
    "    \"TRX/USDT:USDT\",\n",
    "    \"XTZ/USDT:USDT\",\n",
    "]\n",
    "\n",
    "exchange = ExchangeDataManager(\n",
    "    exchange_name=exchange_name, path_download=\"./database/exchanges\"\n",
    ")\n",
    "\n",
    "await exchange.download_data(\n",
    "    coins=coin_to_dl,\n",
    "    intervals=intervals,\n",
    ")"
   ]
  },
  {
   "cell_type": "markdown",
   "metadata": {},
   "source": [
    "# Get Historical Data From Database"
   ]
  },
  {
   "cell_type": "code",
   "execution_count": null,
   "metadata": {},
   "outputs": [],
   "source": [
    "exchange_name = \"bitget\"\n",
    "\n",
    "exchange = ExchangeDataManager(\n",
    "    exchange_name=exchange_name, \n",
    "    path_download=\"./database/exchanges\"\n",
    ")\n",
    "\n",
    "df = exchange.load_data(\n",
    "    coin=\"BTC/USDT:USDT\", \n",
    "    interval=\"1h\"\n",
    ")\n",
    "\n",
    "df"
   ]
  },
  {
   "cell_type": "code",
   "execution_count": null,
   "metadata": {},
   "outputs": [],
   "source": [
    "exchange.explore_data()"
   ]
  }
 ],
 "metadata": {
  "kernelspec": {
   "display_name": "Python 3.10.2 ('.venv': venv)",
   "language": "python",
   "name": "python3"
  },
  "language_info": {
   "codemirror_mode": {
    "name": "ipython",
    "version": 3
   },
   "file_extension": ".py",
   "mimetype": "text/x-python",
   "name": "python",
   "nbconvert_exporter": "python",
   "pygments_lexer": "ipython3",
   "version": "3.12.2"
  },
  "vscode": {
   "interpreter": {
    "hash": "d5100c10c6b669a578e86ed43dbb636d25e3c9fb9ee424ec9e5e4bad34e2e434"
   }
  }
 },
 "nbformat": 4,
 "nbformat_minor": 2
}
